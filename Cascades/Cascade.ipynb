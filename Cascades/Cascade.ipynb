{
 "cells": [
  {
   "cell_type": "code",
   "execution_count": 126,
   "metadata": {},
   "outputs": [],
   "source": [
    "import numpy as np\n",
    "import pandas as pd\n",
    "import matplotlib as mpl\n",
    "import matplotlib.pyplot as plt\n",
    "import os\n",
    "import networkx as nx\n",
    "import ndlib.models.ModelConfig as mc\n",
    "import ndlib.models.epidemics as ep\n"
   ]
  },
  {
   "cell_type": "code",
   "execution_count": 127,
   "metadata": {},
   "outputs": [],
   "source": [
    "path = \"./ED_70_nodes.csv\"\n",
    "dfnodes = pd.read_csv(path, sep=\",\")"
   ]
  },
  {
   "cell_type": "code",
   "execution_count": 128,
   "metadata": {},
   "outputs": [],
   "source": [
    "path = \"./ED_70_Edges.csv\"\n",
    "dfedges = pd.read_csv(path, sep=\",\")"
   ]
  },
  {
   "cell_type": "code",
   "execution_count": 129,
   "metadata": {},
   "outputs": [],
   "source": [
    "nodesList = list(dfnodes.Id)"
   ]
  },
  {
   "cell_type": "code",
   "execution_count": 130,
   "metadata": {},
   "outputs": [
    {
     "data": {
      "text/plain": [
       "Index(['Source', 'Target'], dtype='object')"
      ]
     },
     "execution_count": 130,
     "metadata": {},
     "output_type": "execute_result"
    }
   ],
   "source": [
    "dfedges.keys()"
   ]
  },
  {
   "cell_type": "code",
   "execution_count": 131,
   "metadata": {},
   "outputs": [],
   "source": [
    "G=nx.Graph()\n",
    "# Adding nodes\n",
    "for nodes in nodesList:\n",
    "    G.add_node(nodes)\n",
    "\n",
    "# Adding edges\n",
    "for source,target in zip(list(dfedges.Source),list(dfedges.Target)):\n",
    "#     print(source,target)\n",
    "    G.add_edge(source,target)"
   ]
  },
  {
   "cell_type": "code",
   "execution_count": 132,
   "metadata": {},
   "outputs": [
    {
     "data": {
      "image/png": "[encoded data removed]",
      "text/plain": [
       "<Figure size 432x288 with 1 Axes>"
      ]
     },
     "metadata": {},
     "output_type": "display_data"
    }
   ],
   "source": [
    "nx.draw_networkx(G,with_labels=False)"
   ]
  },
  {
   "cell_type": "code",
   "execution_count": 133,
   "metadata": {},
   "outputs": [
    {
     "name": "stderr",
     "output_type": "stream",
     "text": [
      "100%|██████████| 200/200 [00:00<00:00, 282.25it/s]\n"
     ]
    }
   ],
   "source": [
    "# Network topology\n",
    "G\n",
    "\n",
    "# Model selection\n",
    "model = ep.ThresholdModel(G)\n",
    "\n",
    "# Model Configuration\n",
    "config = mc.Configuration()\n",
    "# fraction_infected (0.1,0.2)\n",
    "config.add_model_parameter('fraction_infected', 0.2)\n",
    "\n",
    "# Setting node parameters\n",
    "# Threshold (0.1, 0.25, 0.5, 0.75)\n",
    "threshold = 0.75\n",
    "for i in G.nodes():\n",
    "    config.add_node_configuration(\"threshold\", i, threshold)\n",
    "\n",
    "model.set_initial_status(config)\n",
    "\n",
    "# Simulation execution\n",
    "iterations = model.iteration_bunch(200)\n",
    "\n"
   ]
  },
  {
   "cell_type": "code",
   "execution_count": 161,
   "metadata": {},
   "outputs": [
    {
     "name": "stderr",
     "output_type": "stream",
     "text": [
      "100%|██████████| 200/200 [00:00<00:00, 3730.16it/s]\n"
     ]
    },
    {
     "ename": "TypeError",
     "evalue": "must be str, not float",
     "output_type": "error",
     "traceback": [
      "\u001b[0;31m---------------------------------------------------------------------------\u001b[0m",
      "\u001b[0;31mTypeError\u001b[0m                                 Traceback (most recent call last)",
      "\u001b[0;32m<ipython-input-161-54fe15617aa2>\u001b[0m in \u001b[0;36m<module>\u001b[0;34m\u001b[0m\n\u001b[1;32m     18\u001b[0m         \u001b[0;31m# Simulation execution\u001b[0m\u001b[0;34m\u001b[0m\u001b[0;34m\u001b[0m\u001b[0;34m\u001b[0m\u001b[0m\n\u001b[1;32m     19\u001b[0m         \u001b[0miterations\u001b[0m \u001b[0;34m=\u001b[0m \u001b[0mmodel\u001b[0m\u001b[0;34m.\u001b[0m\u001b[0miteration_bunch\u001b[0m\u001b[0;34m(\u001b[0m\u001b[0;36m200\u001b[0m\u001b[0;34m)\u001b[0m\u001b[0;34m\u001b[0m\u001b[0;34m\u001b[0m\u001b[0m\n\u001b[0;32m---> 20\u001b[0;31m         \u001b[0mkey\u001b[0m \u001b[0;34m=\u001b[0m \u001b[0;34m\"Fraction=\"\u001b[0m \u001b[0;34m+\u001b[0m \u001b[0mfraction_infected\u001b[0m\u001b[0;34m+\u001b[0m \u001b[0;34m\" Threshold=\"\u001b[0m\u001b[0;34m+\u001b[0m\u001b[0mthreshold\u001b[0m \u001b[0;34m+\u001b[0m \u001b[0;34m\"200thIteration\"\u001b[0m\u001b[0;34m\u001b[0m\u001b[0;34m\u001b[0m\u001b[0m\n\u001b[0m\u001b[1;32m     21\u001b[0m         \u001b[0md\u001b[0m\u001b[0;34m[\u001b[0m\u001b[0mkey\u001b[0m\u001b[0;34m]\u001b[0m \u001b[0;34m=\u001b[0m \u001b[0miterations\u001b[0m\u001b[0;34m[\u001b[0m\u001b[0;34m-\u001b[0m\u001b[0;36m1\u001b[0m\u001b[0;34m]\u001b[0m\u001b[0;34m\u001b[0m\u001b[0;34m\u001b[0m\u001b[0m\n\u001b[1;32m     22\u001b[0m \u001b[0;31m#         print(\"Fraction:{} , Threshold:{}, Iterations_200:{}\".format(fraction_infected,threshold,iterations[-1]))\u001b[0m\u001b[0;34m\u001b[0m\u001b[0;34m\u001b[0m\u001b[0;34m\u001b[0m\u001b[0m\n",
      "\u001b[0;31mTypeError\u001b[0m: must be str, not float"
     ]
    }
   ],
   "source": [
    "FractionInfected = [0.1,0.2]\n",
    "Threshold = [0.1,0.3]\n",
    "d = {}\n",
    "for fraction_infected in FractionInfected:\n",
    "    for threshold in Threshold:\n",
    "        model = ep.ThresholdModel(G)\n",
    "        # Model Configuration\n",
    "        config = mc.Configuration()\n",
    "        # fraction_infected (0.1,0.2)\n",
    "        config.add_model_parameter('fraction_infected', fraction_infected)\n",
    "\n",
    "        # Setting node parameters\n",
    "        for i in G.nodes():\n",
    "            config.add_node_configuration(\"threshold\", i, threshold)\n",
    "\n",
    "        model.set_initial_status(config)\n",
    "\n",
    "        # Simulation execution\n",
    "        iterations = model.iteration_bunch(200)\n",
    "        key = \"Fraction=\" + fraction_infected+ \" Threshold=\"+threshold + \"200thIteration\"\n",
    "        d[key] = iterations[-1]\n",
    "#         print(\"Fraction:{} , Threshold:{}, Iterations_200:{}\".format(fraction_infected,threshold,iterations[-1]))\n",
    "    "
   ]
  },
  {
   "cell_type": "code",
   "execution_count": 159,
   "metadata": {},
   "outputs": [
    {
     "data": {
      "text/plain": [
       "{'iteration': 199,\n",
       " 'status': {},\n",
       " 'node_count': {0: 312, 1: 77},\n",
       " 'status_delta': {0: 0, 1: 0}}"
      ]
     },
     "execution_count": 159,
     "metadata": {},
     "output_type": "execute_result"
    }
   ],
   "source": [
    "iterations[-1]"
   ]
  },
  {
   "attachments": {
    "image.png": {
     "image/png": "[encoded data removed]"
    }
   },
   "cell_type": "markdown",
   "metadata": {},
   "source": [
    "\t\tThreshold\t\n",
    "\t\t0.25\t0.75\n",
    "Fraction \t0.1\t239.36it\t242.60it\n",
    "\t0.2\t357.74it\t274.29it![image.png](attachment:image.png)"
   ]
  },
  {
   "cell_type": "code",
   "execution_count": 160,
   "metadata": {},
   "outputs": [
    {
     "name": "stdout",
     "output_type": "stream",
     "text": [
      "<class 'list'>\n",
      "{'iteration': 0, 'status': {'JudgeDread-BigSeven': 0, 'GramParsons-CryOneMoreTime': 1, \"HankWilliams-MySweetLoveAin'tAround\": 1, \"TheKing'sSingers-Can'tBuyMeLove\": 0, 'CharlieRich-LifeHasItsLittleUpsAndDowns': 0, 'RosanneCash-TheWheel': 1, 'SteveEarle-FearlessHeart': 0, 'JohnGorka-WhereTheBottlesBreak': 1, \"MerleHaggard-It'sNotLove(ButIt'sNotBad)\": 0, 'TheHouseOfLove-Ray': 0, 'BlindLemonJefferson-RamblerBlues': 0, 'MethodMan-PerfectWorld': 0, 'NovembersDoom-Awaken': 0, \"Nonchalant-5O'Clock\": 0, \"Ol'DirtyBastard-Gettin'High\": 1, 'TheDivineComedy-ThereIsALightThatNeverGoesOut': 1, 'Everlast-SoLong': 0, \"ProdigyOfMobbDeep-Don'tBeAFollower\": 0, 'RayPrice-HeartachesByTheNumber': 1, 'JohnCale-GhostStory': 0, 'TheLangleySchoolsMusicProject-GodOnlyKnows': 0, 'Hooverphonic-TheLastSupper': 0, 'DaynaKurtz-FredAstaire': 0, 'UncleTupelo-WhiskeyBottle': 0, 'MississippiFredMcDowell-61Highway': 1, 'GillianWelch-OneMonkey': 0, 'HowardShore-CirithUngol': 0, 'JorgeBen-CassiusMarcellusClay': 1, 'ShannonNoll-NewBeginning': 0, 'BuffySainte-Marie-EyesOfAmber': 0, 'NickelCreek-BestOfLuck': 1, 'JeffreyFoucault-CrossOfFlowers': 0, 'Eminem-Stan': 0, 'PorterWagoner-TheRubberRoom': 0, 'BenHarper-MoreThanSorry': 1, 'ArthurRussell-HomeAwayFromHome': 0, 'TheOnlyOnes-SomeoneWhoCares': 0, 'RascalFlatts-Holes': 0, 'Goldspot-TimeBomb': 0, 'AnimalCollective-College': 0, 'MobbDeep-TheStartOfYourEnding(41stSide)': 0, 'LeAnnRimes-WhatICannotChange': 1, 'StephenSondheim-OpeningTitle': 0, 'TheEverybodyfields-LonelyAnywhere': 0, 'TheEverybodyfields-BeMiner': 0, 'JohnBarry-TheDeathOfTimmons': 0, \"MississippiSheiks-I'veGotBloodInMyEyesForYou\": 0, 'Afi-SilverAndCold': 1, 'LosLobos-PhoneCall': 0, 'StoryOne-ComingUp': 0, 'LilyHolbrook-WelcomeToTheSlaughterhouse': 0, 'Shinedown-WhatAShame': 1, 'Innerpartysystem-WhatWeWillNeverKnow': 0, 'ChiddyBang-NothingOnWe': 0, 'SageFrancis-TheBestOfTimes': 0, 'Leadbelly-WhereDidYouSleepLastNight?': 0, 'Jazztronik-Phoenix': 0, 'MattElliott-TheDogBeneathTheSkin': 0, 'Tyler-TheCreator': 0, 'ArcticMonkeys-TheHellcatSpangledShalalala': 0, 'ViktorVaughn-Lickupon': 0, 'AngeloBadalamenti-MulhollandDrive': 1, 'AngeloBadalamenti-Diner': 0, 'JunkieXL-EvenInThisMoment': 1, \"DoloresO'Riordan-AveMaria\": 0, 'Wu-TangClan-DuckSeazon': 0, 'CellaDwellas-MedinaStyle': 0, 'HarryGregson-Williams-ANarniaLullaby': 1, 'Flobots-Combat': 0, 'AntiPopConsortium-FluorescentBlack': 0, 'Doom-Ballskin': 0, 'SisterRosettaTharpe-DownByTheRiverside': 0, 'MastaAce-Acknowledge': 0, 'RootsManuva-EvilRabbit': 0, 'MarilynManson-TheSuckForYourSolution': 0, 'DavidByrne-Inexorable': 1, 'SkylarGrey-Invisible': 1, 'WillieWilliams-ArmagideonTime': 0, 'KrisKristofferson-WhyMe': 0, 'JuniorKelly-StandingFirm': 1, 'GillianWelch-RockOfAges': 0, 'TheBlindBoysOfAlabama-RunOnForALongTime': 1, 'PattyLoveless-RiseUpLazarus': 1, \"SisterRosettaTharpe-That'sAll\": 0, \"LorettaLynn-Women'sPrison\": 0, 'TommyMcCook-TheSaint': 0, 'ThePriests-PanisAngelicus': 0, 'BlindLemonJefferson-SeeThatMyGraveIsKeptClean': 0, 'SisterRosettaTharpe-RockMe': 0, 'ThePriests-Benedictus': 0, 'HoratioLeeJenkins-DrunkerThanSatan': 0, 'IanGillan-Gethsemane(IOnlyWantToSay)': 0, 'KarlJenkins-Charge!': 0, 'ThirdDay-MountainOfGod': 0, 'MatthewWest-TheMotions': 1, 'SacredSpirit-Dawa': 1, 'TheBachelors-Diane': 0, 'SamanthaSang-Emotion': 0, 'BobBrookmeyer-AFelicidade': 0, 'TheRoyalPhilharmonicOrchestra-HookedOnRomance': 0, 'JohnTesh-HalcyonDays': 0, \"GaleGarnett-We'llSingInTheSunshine\": 0, 'JimReeves-DistantDrums': 0, 'TheOut-Islanders-MoonMist': 0, 'Interference-Gold': 0, 'KarlMaddison-FriendshipHighway': 1, 'RogueWave-Sightlines': 0, 'BennyMardones-IntoTheNight': 0, 'KarlaBonoff-SomeoneToLayDownBesideMe': 0, 'Player-BabyComeBack': 0, 'AlbertCummings-FirstDay': 0, 'KathrynWilliams-White': 1, 'MaryMacGregor-TornBetweenTwoLovers': 0, 'GeorgeFenton-TheGirlInTheFan': 0, 'RichardHellAndTheVoidoids-BlankGeneration': 0, 'BigJoeTurner-ShakeRattleAndRoll': 0, 'BruceChannel-HeyBaby': 0, 'LittleMilton-BlindMan': 0, 'MelMcDaniel-LouisianaSaturdayNight': 0, 'DollyParton-MarryMe': 0, 'SisterSledge-AllAmericanGirls': 0, 'BigMamaThornton-HoundDog': 0, 'MerryClayton-Yes': 0, \"TheEmileBergsteinChorale-Kellerman'sAnthem\": 0, 'JerryDouglas-Takarasaka': 1, 'TimMcGraw-WheretheGreenGrassGrows': 0, 'SuzyBogguss-OutboundPlane': 0, 'ZZTop-Bar-B-Q': 0, 'LarryYoung-TheMoontrane': 0, 'DavidBenoit-SailingThroughtheCity': 0, 'LeeMorgan-TheSidewinder': 0, \"GreatBigSea-WhenI'mUp(ICan'tGetDown)\": 1, 'TheSawDoctors-IUsetaLover': 0, 'Kaoma-ChachaLaVie': 0, 'KathyMattea-455Rocket': 0, 'HayleyMills-PollyannaSong': 0, \"MaryMargaretO'Hara-KeepingYouInMind\": 0, 'RenegadeSoundwave-BitingMyNails': 0, \"StereoMC's-Creation\": 0, 'TheVaughanBrothers-HardToBe': 0, 'Akasha-JazzGarage': 0, 'Xzibit-BreakYourself': 0, 'DanSeals-Bop': 0, 'SusanaBaca-SeMeVanLosPies': 0, 'FlashAndThePan-MidnightMan': 0, 'TrickPony-PourMe': 0, \"TheDubliners-Finnegan'sWake\": 0, 'Sidestepper-DameTuQuerer': 0, 'TheSelecter-MissingWords': 0, 'TerriClark-IJustWannaBeMad': 0, 'Nu-AnyOtherGirl': 1, \"DannyElfman-Roxie'sSuite\": 1, 'Rednex-CottonEyeJoe': 0, 'MFSB-PhiladelphiaFreedom': 0, 'ArturoSandoval-Be-Bop': 0, 'ManuDibango-PepeSoup': 0, 'Brakes-AllNightDiscoParty': 1, 'PPArnold-AngelOfTheMorning': 0, 'HayseedDixie-Roses': 0, 'YoungTiger-CalypsoBe': 0, 'JuneChristy-TheMerriest(ThunderballMix)': 1, 'Diesler-DawnOfTheDead': 1, \"DelbertMcClinton-Givin'ItUpForYourLove\": 0, 'Milburn-CheshireCatSmile': 0, 'JosefK-16Years': 0, 'EricCarmen-HungryEyes': 0, 'JacksonSisters-IBelieveInMiracles': 0, 'Donnie-911': 0, 'BowWow-FreshAzimiz': 0, 'GarthBrooks-WrappedUpInYou': 0, \"WhiteDenim-Let'sTalkAboutIt\": 0, 'Yellowjackets-AndYouKnowThat': 0, 'Sailor-Harbour': 0, 'FutureOfTheLeft-DrinkNike': 1, 'MarcosValle-Garra': 1, 'FemiKuti-BengBengBeng': 1, 'KylieAuldist-CutYouLoose': 0, 'WizKhalifa-BlackAndYellow': 1, 'CalvinHarris-ReadyForTheWeekend': 0, 'NoAndTheMaybes-PetraPetrified': 0, 'FenixTX-Threesome': 1, 'NanciGriffith-TheseDaysInAnOpenBook': 0, 'NanciGriffith-GoingBackToGeorgia': 1, 'RayBarretto-PastimeParadise': 0, 'TerryCallier-OccasionalRain': 0, 'Valeria-RhythmOfTheNight': 0, 'D12-BlowMyBuzz': 0, 'PlasticOperator-Folder': 0, 'TitoPuente-TakeFive': 0, \"Len-Feelin'Alright\": 0, 'GreatWhite-OldRoseMotel': 0, 'XTC-SeasonCycle': 0, 'TheHumanBeinz-NobodyButMe': 0, 'Faces-BorstalBoys': 0, 'LoneJustice-EastOfEden': 0, 'JeremiahClarke-TrumpetVoluntary': 1, 'TenpoleTudor-Wunderbar': 0, 'VaughnMonroe-MyDevotion': 0, \"DogsDieInHotCars-PaulNewman'sEyes\": 0, 'LosLonelyBoys-Diamonds': 0, 'Pinback-Wasted': 0, 'LesSavyFav-Yawn': 1, 'SarahCracknell-Anymore': 0, \"TootsAndTheMaytals-ICan'tBelieve\": 0, 'BWO-SixteenTonsOfHardware': 0, 'MondoGenerator-LikeYouWant': 0, \"StephenMalkmusAndTheJicks-WeCan'tHelpYou\": 1, 'TheSlits-Spend': 0, \"Screamin'JayHawkins-IsYouIsOrIsYouAin'tMyBaby\": 0, \"Poison-IWon'tForgetYou\": 0, 'Warrant-ISawRed': 1, \"CarrieUnderwood-IAin'tInChecotahAnymore\": 0, 'Poison-LetMeGoToTheShow': 0, 'Warrant-BlindFaith': 0, 'TheWildTchoupitoulas-MeetDeBoysOnTheBattlefront': 1, \"JoeSimon-TheChokin'Kind\": 0, \"AnneShelton-I'llBeSeeingYou\": 0, 'SonnyTerry-CrowJane': 0, 'BrentonWood-TheOogumBoogumSong': 0, 'Altan-DonalAgusMorag': 0, 'TheBand-AcrossTheGreatDivide': 0, \"ElvinBishop-Devil'sSlide\": 0, 'TheJudds-LoveCanBuildABridge': 0, 'PaulDavis-SweetLife': 0, 'PaulDavis-CryJustALittle': 0, 'PaulDavis-DoRight': 0, 'StanleyTurrentine-GodBlessTheChild': 1, 'DavidCrosby-TamalpaisHigh(AtAbout3)': 0, 'KikiDee-Amoureuse': 0, 'DanFogelberg-MoreThanEver': 0, 'IceCube-WhatCanIDo?': 0, 'CrystalGayle-HalfTheWay': 0, 'AlvinYoungbloodHart-GallowsPole': 0, 'MahaliaJackson-IWillMoveOnUpALittleHigher': 0, 'ChebMami-Bledi': 0, 'Mishka-WhenTheRainComesDown': 0, \"AnitaO'Day-LetMeOffUptown\": 0, 'CollinRaye-ManOfMyWord': 0, 'Tiffany-FeelingsOfForever': 0, 'StevieRayVaughan-TheThings(That)IUsedToDo': 0, 'PhilipAaberg-WalkingThroughWalls': 0, 'RoyGerson-IfIHadYou': 0, 'Fischer-Z-SoLong': 1, 'AlWilson-PoorSideOfTown': 0, 'SamanthaJones-MyWay': 0, 'OliviaNewton-John-DeeperThanARiver': 0, 'RichieSambora-BalladOfYouth': 0, 'PhoebeSnow-AllOver': 0, 'Whiskeytown-WhatTheDevilWanted': 0, 'JohnCameron-HalfForgottenDaydreams': 1, 'TheWaterboys-E.B.O.L.': 0, 'FloydCramer-LastDate': 0, 'TheMutatoMuzikaOrchestra-HeyJude': 0, 'JonathanRichman-SundayAfternoon': 0, 'DavidKnopfler-ShineShineShine': 1, 'DjangoReinhardt-Naguine': 0, 'CatherineFeeny-HushNow': 0, 'DukeSpecial-WakeUpScarlett': 0, 'KellyJoePhelps-TheAnvil': 0, 'DavidArnold-CityOfLovers': 0, 'ChrisKnight-HereComesTheRain': 0, \"Ben'sBrother-BeautyQueen\": 1, 'PaulPotts-NellaFantasia': 0, 'JimmyEatWorld-Blister': 0, \"JimHall-It'sNiceToBeWithYou\": 0, 'Hauschka-Belgrade': 1, 'CharlesTrenet-DouceFrance': 0, 'BenLee-Home': 0, \"CrazyHorse-IDon'tWantToTalkAboutIt\": 0, 'OiVaVoi-MagicCarpet': 0, 'Kutless-StrongTower': 0, 'Kisses-PeopleCanDoTheMostAmazingThings': 0, 'Hopesfall-Redshift': 1, 'TheByrds-FromADistance': 1, 'StanleyJordan-AllTheChildren': 0, 'AnneMurray-TalkItOverInTheMorning': 0, 'Lambretta-PerfectTonight': 1, 'Hausmarke-NachtfieberAmLagerfeuer': 0, 'DavidHolmes-TheTrunkScene': 0, \"NicoleKidman-OneDayI'llFlyAway(TonyPhillipsRemix)\": 1, 'TiredPony-Pieces': 0, 'ChavelaVargas-LaLlorona': 0, 'TheRoches-HammondSong': 0, 'Koru-Closer': 0, 'MemphisMinnie-MyStrangeMan': 1, 'SheepOnDrugs-MaryJane': 0, 'JimmyReed-BrightLights': 0, 'Bedlam-HarvestMoon': 0, 'Alabama-BornCountry': 0, 'BoDiddley-Cadillac': 0, 'Pilote-CanYouKeepASecret?': 0, \"Alabama-Can'tKeepAGoodManDown\": 1, 'TajMahal-ItTakesALotToLaugh': 0, 'TheAvettBrothers-Distraction#74': 0, 'AC/DC-CaughtWithYourPantsDown': 0, 'Rammstein-DuHast(RemixByClawfinger)': 0, 'DeadKennedys-Halloween': 1, 'Ratt-LayItDown': 1, 'DaBrat-GiveIt2You': 0, 'Accept-BallsToTheWall': 0, 'Raekwon-IncarceratedScarfaces': 1, 'Halford-Resurrection': 0, 'AngelWitch-AngelWitch': 0, 'Exodus-FabulousDisaster': 0, 'LittleJimmyDickens-MayTheBirdOfParadiseFlyUpYourNose': 1, 'Sepultura-SymptomOfTheUniverse': 0, 'KidRock-Bawitdaba': 0, 'Anthrax-BellyOfTheBeast': 0, 'BlackSheep-TheChoiceIsYours': 0, 'MarilynManson-MisterSuperstar': 0, 'DavidLeeRoth-YankeeRose': 0, 'Saxon-Crusader': 1, 'ArmandVanHelden-NecessaryEvil': 0, \"VanHalen-Runnin'WithTheDevil\": 0, \"TheHighNumbers-I'mTheFace\": 0, 'Whitesnake-CryingInTheRain': 0, 'NapalmDeath-TwistTheKnife(Slowly)': 0, 'TalBachman-Romanticide': 0, \"BoyHitsCar-I'mACloud\": 0, \"BonJovi-I'dDieForYou\": 0, 'TheDisposableHeroesOfHiphoprisy-SatanicReverses': 0, 'TheSpecials-FridayNight': 0, 'D12-ObieTrice(Skit)': 0, 'DMX-StopBeingGreedy': 1, 'CircleJerks-UnderTheGun': 0, 'Curve-DirtyHigh': 1, 'Danzig-Godless': 0, 'Danzig-Bodies': 0, 'Danzig-DoYouWearTheMark': 0, 'Deftones-AroundTheFur': 0, 'Deftones-Rickets': 0, \"DefLeppard-Foolin'\": 0, 'Deftones-Korea': 1, 'DefLeppard-RunRiot': 0, 'LitaFord-Hungry': 0, 'Firehouse-OvernightSensation': 0, 'Dope-Debonaire': 1, 'Doro-UnholyLove': 0, 'BruceDickinson-TakingTheQueen': 0, 'BruceDickinson-RoadToHell': 0, 'BruceDickinson-Omega': 1, 'BruceDickinson-AllTheYoungDudes': 0, \"Lil'Kim-SuckMyD**k\": 1, \"GunsN'Roses-IDon'tCareAboutYou\": 0, 'GreenDay-TightWadHill': 1, 'RobertPalmer-FleshWound': 0, 'FearOfPop-RootToThis': 0, \"Filter-It'sGonnaKillMe\": 0, 'Filter-Cancer': 0, 'YngwieMalmsteen-Teaser': 1, 'YngwieMalmsteen-FireAndIce': 0, \"YngwieMalmsteen-I'mMyOwnEnemy\": 0, 'YngwieMalmsteen-GoldenDawn': 1, 'TheMightyMightyBosstones-IKnowMore': 1, 'MysticCircle-LucifersAngel': 0, 'VinceNeil-SisterOfPain': 1, 'Nelson-RightBeforeYourEyes': 1, 'Poison-CryTough': 0, 'IggyPop-ButtTown': 0, 'Prong-Cut-Rate': 0, 'MichaelSchenkerGroup-AssaultAttack': 0, 'Sevendust-Headtrip': 0, 'Sevendust-Crumbled': 1, \"SkidRow-Livin'OnAChainGang\": 0, 'SkidRow-RiotAct': 0, 'SuicidalTendencies-JoinTheNewArmy': 0, 'SuicidalTendencies-HowWillILaughTomorrow': 0, 'TempleOfTheDog-WoodenJesus': 0, 'AC/DC-ShakeALeg': 0, \"AC/DC-RockAndRollAin'tNoisePollution\": 1, 'Thunder-AnEnglishmanOnHoliday': 0, \"ToraTora-Love'sABitch\": 0, \"MelanieC-Goin'Down\": 0, 'TheRoots-Web': 0, \"RollDeep-WhenI'm'Ere\": 1, \"RayJ-KeepSweatin'\": 0, 'IcedEarth-IWalkAlone': 0, 'AtariTeenageRiot-Destroy2000YearsOfCulture': 0, 'AtariTeenageRiot-IntoTheDeath': 0, 'Clawfinger-OutToGetMe': 0, 'Clawfinger-PinMeDown': 0, 'Clawfinger-StepAside': 0, 'Deathstars-TheLastAmmunition': 0, 'Finch-ProjectMayhem': 0, 'Kiss-GodOfThunder': 0, 'TheSugarcubes-Pump': 0, \"VanHalen-Jamie'sCryin'\": 1, '3InchesOfBlood-PremonitionOfPain': 0, '3InchesOfBlood-NightMarauders': 0}, 'node_count': {0: 312, 1: 77}, 'status_delta': {0: 0, 1: 0}}\n",
      "{'iteration': 1, 'status': {}, 'node_count': {0: 312, 1: 77}, 'status_delta': {0: 0, 1: 0}}\n",
      "{'iteration': 2, 'status': {}, 'node_count': {0: 312, 1: 77}, 'status_delta': {0: 0, 1: 0}}\n",
      "{'iteration': 3, 'status': {}, 'node_count': {0: 312, 1: 77}, 'status_delta': {0: 0, 1: 0}}\n",
      "{'iteration': 4, 'status': {}, 'node_count': {0: 312, 1: 77}, 'status_delta': {0: 0, 1: 0}}\n",
      "{'iteration': 5, 'status': {}, 'node_count': {0: 312, 1: 77}, 'status_delta': {0: 0, 1: 0}}\n",
      "{'iteration': 6, 'status': {}, 'node_count': {0: 312, 1: 77}, 'status_delta': {0: 0, 1: 0}}\n",
      "{'iteration': 7, 'status': {}, 'node_count': {0: 312, 1: 77}, 'status_delta': {0: 0, 1: 0}}\n",
      "{'iteration': 8, 'status': {}, 'node_count': {0: 312, 1: 77}, 'status_delta': {0: 0, 1: 0}}\n",
      "{'iteration': 9, 'status': {}, 'node_count': {0: 312, 1: 77}, 'status_delta': {0: 0, 1: 0}}\n",
      "{'iteration': 10, 'status': {}, 'node_count': {0: 312, 1: 77}, 'status_delta': {0: 0, 1: 0}}\n",
      "{'iteration': 11, 'status': {}, 'node_count': {0: 312, 1: 77}, 'status_delta': {0: 0, 1: 0}}\n",
      "{'iteration': 12, 'status': {}, 'node_count': {0: 312, 1: 77}, 'status_delta': {0: 0, 1: 0}}\n",
      "{'iteration': 13, 'status': {}, 'node_count': {0: 312, 1: 77}, 'status_delta': {0: 0, 1: 0}}\n",
      "{'iteration': 14, 'status': {}, 'node_count': {0: 312, 1: 77}, 'status_delta': {0: 0, 1: 0}}\n",
      "{'iteration': 15, 'status': {}, 'node_count': {0: 312, 1: 77}, 'status_delta': {0: 0, 1: 0}}\n",
      "{'iteration': 16, 'status': {}, 'node_count': {0: 312, 1: 77}, 'status_delta': {0: 0, 1: 0}}\n",
      "{'iteration': 17, 'status': {}, 'node_count': {0: 312, 1: 77}, 'status_delta': {0: 0, 1: 0}}\n",
      "{'iteration': 18, 'status': {}, 'node_count': {0: 312, 1: 77}, 'status_delta': {0: 0, 1: 0}}\n",
      "{'iteration': 19, 'status': {}, 'node_count': {0: 312, 1: 77}, 'status_delta': {0: 0, 1: 0}}\n",
      "{'iteration': 20, 'status': {}, 'node_count': {0: 312, 1: 77}, 'status_delta': {0: 0, 1: 0}}\n",
      "{'iteration': 21, 'status': {}, 'node_count': {0: 312, 1: 77}, 'status_delta': {0: 0, 1: 0}}\n",
      "{'iteration': 22, 'status': {}, 'node_count': {0: 312, 1: 77}, 'status_delta': {0: 0, 1: 0}}\n",
      "{'iteration': 23, 'status': {}, 'node_count': {0: 312, 1: 77}, 'status_delta': {0: 0, 1: 0}}\n",
      "{'iteration': 24, 'status': {}, 'node_count': {0: 312, 1: 77}, 'status_delta': {0: 0, 1: 0}}\n",
      "{'iteration': 25, 'status': {}, 'node_count': {0: 312, 1: 77}, 'status_delta': {0: 0, 1: 0}}\n",
      "{'iteration': 26, 'status': {}, 'node_count': {0: 312, 1: 77}, 'status_delta': {0: 0, 1: 0}}\n",
      "{'iteration': 27, 'status': {}, 'node_count': {0: 312, 1: 77}, 'status_delta': {0: 0, 1: 0}}\n",
      "{'iteration': 28, 'status': {}, 'node_count': {0: 312, 1: 77}, 'status_delta': {0: 0, 1: 0}}\n",
      "{'iteration': 29, 'status': {}, 'node_count': {0: 312, 1: 77}, 'status_delta': {0: 0, 1: 0}}\n",
      "{'iteration': 30, 'status': {}, 'node_count': {0: 312, 1: 77}, 'status_delta': {0: 0, 1: 0}}\n",
      "{'iteration': 31, 'status': {}, 'node_count': {0: 312, 1: 77}, 'status_delta': {0: 0, 1: 0}}\n",
      "{'iteration': 32, 'status': {}, 'node_count': {0: 312, 1: 77}, 'status_delta': {0: 0, 1: 0}}\n",
      "{'iteration': 33, 'status': {}, 'node_count': {0: 312, 1: 77}, 'status_delta': {0: 0, 1: 0}}\n",
      "{'iteration': 34, 'status': {}, 'node_count': {0: 312, 1: 77}, 'status_delta': {0: 0, 1: 0}}\n",
      "{'iteration': 35, 'status': {}, 'node_count': {0: 312, 1: 77}, 'status_delta': {0: 0, 1: 0}}\n",
      "{'iteration': 36, 'status': {}, 'node_count': {0: 312, 1: 77}, 'status_delta': {0: 0, 1: 0}}\n",
      "{'iteration': 37, 'status': {}, 'node_count': {0: 312, 1: 77}, 'status_delta': {0: 0, 1: 0}}\n",
      "{'iteration': 38, 'status': {}, 'node_count': {0: 312, 1: 77}, 'status_delta': {0: 0, 1: 0}}\n",
      "{'iteration': 39, 'status': {}, 'node_count': {0: 312, 1: 77}, 'status_delta': {0: 0, 1: 0}}\n",
      "{'iteration': 40, 'status': {}, 'node_count': {0: 312, 1: 77}, 'status_delta': {0: 0, 1: 0}}\n",
      "{'iteration': 41, 'status': {}, 'node_count': {0: 312, 1: 77}, 'status_delta': {0: 0, 1: 0}}\n",
      "{'iteration': 42, 'status': {}, 'node_count': {0: 312, 1: 77}, 'status_delta': {0: 0, 1: 0}}\n",
      "{'iteration': 43, 'status': {}, 'node_count': {0: 312, 1: 77}, 'status_delta': {0: 0, 1: 0}}\n",
      "{'iteration': 44, 'status': {}, 'node_count': {0: 312, 1: 77}, 'status_delta': {0: 0, 1: 0}}\n",
      "{'iteration': 45, 'status': {}, 'node_count': {0: 312, 1: 77}, 'status_delta': {0: 0, 1: 0}}\n",
      "{'iteration': 46, 'status': {}, 'node_count': {0: 312, 1: 77}, 'status_delta': {0: 0, 1: 0}}\n",
      "{'iteration': 47, 'status': {}, 'node_count': {0: 312, 1: 77}, 'status_delta': {0: 0, 1: 0}}\n",
      "{'iteration': 48, 'status': {}, 'node_count': {0: 312, 1: 77}, 'status_delta': {0: 0, 1: 0}}\n",
      "{'iteration': 49, 'status': {}, 'node_count': {0: 312, 1: 77}, 'status_delta': {0: 0, 1: 0}}\n",
      "{'iteration': 50, 'status': {}, 'node_count': {0: 312, 1: 77}, 'status_delta': {0: 0, 1: 0}}\n",
      "{'iteration': 51, 'status': {}, 'node_count': {0: 312, 1: 77}, 'status_delta': {0: 0, 1: 0}}\n",
      "{'iteration': 52, 'status': {}, 'node_count': {0: 312, 1: 77}, 'status_delta': {0: 0, 1: 0}}\n",
      "{'iteration': 53, 'status': {}, 'node_count': {0: 312, 1: 77}, 'status_delta': {0: 0, 1: 0}}\n",
      "{'iteration': 54, 'status': {}, 'node_count': {0: 312, 1: 77}, 'status_delta': {0: 0, 1: 0}}\n",
      "{'iteration': 55, 'status': {}, 'node_count': {0: 312, 1: 77}, 'status_delta': {0: 0, 1: 0}}\n",
      "{'iteration': 56, 'status': {}, 'node_count': {0: 312, 1: 77}, 'status_delta': {0: 0, 1: 0}}\n",
      "{'iteration': 57, 'status': {}, 'node_count': {0: 312, 1: 77}, 'status_delta': {0: 0, 1: 0}}\n",
      "{'iteration': 58, 'status': {}, 'node_count': {0: 312, 1: 77}, 'status_delta': {0: 0, 1: 0}}\n",
      "{'iteration': 59, 'status': {}, 'node_count': {0: 312, 1: 77}, 'status_delta': {0: 0, 1: 0}}\n",
      "{'iteration': 60, 'status': {}, 'node_count': {0: 312, 1: 77}, 'status_delta': {0: 0, 1: 0}}\n",
      "{'iteration': 61, 'status': {}, 'node_count': {0: 312, 1: 77}, 'status_delta': {0: 0, 1: 0}}\n",
      "{'iteration': 62, 'status': {}, 'node_count': {0: 312, 1: 77}, 'status_delta': {0: 0, 1: 0}}\n",
      "{'iteration': 63, 'status': {}, 'node_count': {0: 312, 1: 77}, 'status_delta': {0: 0, 1: 0}}\n",
      "{'iteration': 64, 'status': {}, 'node_count': {0: 312, 1: 77}, 'status_delta': {0: 0, 1: 0}}\n",
      "{'iteration': 65, 'status': {}, 'node_count': {0: 312, 1: 77}, 'status_delta': {0: 0, 1: 0}}\n",
      "{'iteration': 66, 'status': {}, 'node_count': {0: 312, 1: 77}, 'status_delta': {0: 0, 1: 0}}\n",
      "{'iteration': 67, 'status': {}, 'node_count': {0: 312, 1: 77}, 'status_delta': {0: 0, 1: 0}}\n",
      "{'iteration': 68, 'status': {}, 'node_count': {0: 312, 1: 77}, 'status_delta': {0: 0, 1: 0}}\n",
      "{'iteration': 69, 'status': {}, 'node_count': {0: 312, 1: 77}, 'status_delta': {0: 0, 1: 0}}\n",
      "{'iteration': 70, 'status': {}, 'node_count': {0: 312, 1: 77}, 'status_delta': {0: 0, 1: 0}}\n",
      "{'iteration': 71, 'status': {}, 'node_count': {0: 312, 1: 77}, 'status_delta': {0: 0, 1: 0}}\n",
      "{'iteration': 72, 'status': {}, 'node_count': {0: 312, 1: 77}, 'status_delta': {0: 0, 1: 0}}\n",
      "{'iteration': 73, 'status': {}, 'node_count': {0: 312, 1: 77}, 'status_delta': {0: 0, 1: 0}}\n",
      "{'iteration': 74, 'status': {}, 'node_count': {0: 312, 1: 77}, 'status_delta': {0: 0, 1: 0}}\n",
      "{'iteration': 75, 'status': {}, 'node_count': {0: 312, 1: 77}, 'status_delta': {0: 0, 1: 0}}\n",
      "{'iteration': 76, 'status': {}, 'node_count': {0: 312, 1: 77}, 'status_delta': {0: 0, 1: 0}}\n",
      "{'iteration': 77, 'status': {}, 'node_count': {0: 312, 1: 77}, 'status_delta': {0: 0, 1: 0}}\n",
      "{'iteration': 78, 'status': {}, 'node_count': {0: 312, 1: 77}, 'status_delta': {0: 0, 1: 0}}\n",
      "{'iteration': 79, 'status': {}, 'node_count': {0: 312, 1: 77}, 'status_delta': {0: 0, 1: 0}}\n",
      "{'iteration': 80, 'status': {}, 'node_count': {0: 312, 1: 77}, 'status_delta': {0: 0, 1: 0}}\n",
      "{'iteration': 81, 'status': {}, 'node_count': {0: 312, 1: 77}, 'status_delta': {0: 0, 1: 0}}\n",
      "{'iteration': 82, 'status': {}, 'node_count': {0: 312, 1: 77}, 'status_delta': {0: 0, 1: 0}}\n",
      "{'iteration': 83, 'status': {}, 'node_count': {0: 312, 1: 77}, 'status_delta': {0: 0, 1: 0}}\n",
      "{'iteration': 84, 'status': {}, 'node_count': {0: 312, 1: 77}, 'status_delta': {0: 0, 1: 0}}\n",
      "{'iteration': 85, 'status': {}, 'node_count': {0: 312, 1: 77}, 'status_delta': {0: 0, 1: 0}}\n",
      "{'iteration': 86, 'status': {}, 'node_count': {0: 312, 1: 77}, 'status_delta': {0: 0, 1: 0}}\n",
      "{'iteration': 87, 'status': {}, 'node_count': {0: 312, 1: 77}, 'status_delta': {0: 0, 1: 0}}\n",
      "{'iteration': 88, 'status': {}, 'node_count': {0: 312, 1: 77}, 'status_delta': {0: 0, 1: 0}}\n",
      "{'iteration': 89, 'status': {}, 'node_count': {0: 312, 1: 77}, 'status_delta': {0: 0, 1: 0}}\n",
      "{'iteration': 90, 'status': {}, 'node_count': {0: 312, 1: 77}, 'status_delta': {0: 0, 1: 0}}\n",
      "{'iteration': 91, 'status': {}, 'node_count': {0: 312, 1: 77}, 'status_delta': {0: 0, 1: 0}}\n",
      "{'iteration': 92, 'status': {}, 'node_count': {0: 312, 1: 77}, 'status_delta': {0: 0, 1: 0}}\n",
      "{'iteration': 93, 'status': {}, 'node_count': {0: 312, 1: 77}, 'status_delta': {0: 0, 1: 0}}\n",
      "{'iteration': 94, 'status': {}, 'node_count': {0: 312, 1: 77}, 'status_delta': {0: 0, 1: 0}}\n",
      "{'iteration': 95, 'status': {}, 'node_count': {0: 312, 1: 77}, 'status_delta': {0: 0, 1: 0}}\n",
      "{'iteration': 96, 'status': {}, 'node_count': {0: 312, 1: 77}, 'status_delta': {0: 0, 1: 0}}\n",
      "{'iteration': 97, 'status': {}, 'node_count': {0: 312, 1: 77}, 'status_delta': {0: 0, 1: 0}}\n",
      "{'iteration': 98, 'status': {}, 'node_count': {0: 312, 1: 77}, 'status_delta': {0: 0, 1: 0}}\n",
      "{'iteration': 99, 'status': {}, 'node_count': {0: 312, 1: 77}, 'status_delta': {0: 0, 1: 0}}\n",
      "{'iteration': 100, 'status': {}, 'node_count': {0: 312, 1: 77}, 'status_delta': {0: 0, 1: 0}}\n",
      "{'iteration': 101, 'status': {}, 'node_count': {0: 312, 1: 77}, 'status_delta': {0: 0, 1: 0}}\n",
      "{'iteration': 102, 'status': {}, 'node_count': {0: 312, 1: 77}, 'status_delta': {0: 0, 1: 0}}\n",
      "{'iteration': 103, 'status': {}, 'node_count': {0: 312, 1: 77}, 'status_delta': {0: 0, 1: 0}}\n",
      "{'iteration': 104, 'status': {}, 'node_count': {0: 312, 1: 77}, 'status_delta': {0: 0, 1: 0}}\n",
      "{'iteration': 105, 'status': {}, 'node_count': {0: 312, 1: 77}, 'status_delta': {0: 0, 1: 0}}\n",
      "{'iteration': 106, 'status': {}, 'node_count': {0: 312, 1: 77}, 'status_delta': {0: 0, 1: 0}}\n",
      "{'iteration': 107, 'status': {}, 'node_count': {0: 312, 1: 77}, 'status_delta': {0: 0, 1: 0}}\n",
      "{'iteration': 108, 'status': {}, 'node_count': {0: 312, 1: 77}, 'status_delta': {0: 0, 1: 0}}\n",
      "{'iteration': 109, 'status': {}, 'node_count': {0: 312, 1: 77}, 'status_delta': {0: 0, 1: 0}}\n",
      "{'iteration': 110, 'status': {}, 'node_count': {0: 312, 1: 77}, 'status_delta': {0: 0, 1: 0}}\n",
      "{'iteration': 111, 'status': {}, 'node_count': {0: 312, 1: 77}, 'status_delta': {0: 0, 1: 0}}\n",
      "{'iteration': 112, 'status': {}, 'node_count': {0: 312, 1: 77}, 'status_delta': {0: 0, 1: 0}}\n",
      "{'iteration': 113, 'status': {}, 'node_count': {0: 312, 1: 77}, 'status_delta': {0: 0, 1: 0}}\n",
      "{'iteration': 114, 'status': {}, 'node_count': {0: 312, 1: 77}, 'status_delta': {0: 0, 1: 0}}\n",
      "{'iteration': 115, 'status': {}, 'node_count': {0: 312, 1: 77}, 'status_delta': {0: 0, 1: 0}}\n",
      "{'iteration': 116, 'status': {}, 'node_count': {0: 312, 1: 77}, 'status_delta': {0: 0, 1: 0}}\n",
      "{'iteration': 117, 'status': {}, 'node_count': {0: 312, 1: 77}, 'status_delta': {0: 0, 1: 0}}\n",
      "{'iteration': 118, 'status': {}, 'node_count': {0: 312, 1: 77}, 'status_delta': {0: 0, 1: 0}}\n",
      "{'iteration': 119, 'status': {}, 'node_count': {0: 312, 1: 77}, 'status_delta': {0: 0, 1: 0}}\n",
      "{'iteration': 120, 'status': {}, 'node_count': {0: 312, 1: 77}, 'status_delta': {0: 0, 1: 0}}\n",
      "{'iteration': 121, 'status': {}, 'node_count': {0: 312, 1: 77}, 'status_delta': {0: 0, 1: 0}}\n",
      "{'iteration': 122, 'status': {}, 'node_count': {0: 312, 1: 77}, 'status_delta': {0: 0, 1: 0}}\n",
      "{'iteration': 123, 'status': {}, 'node_count': {0: 312, 1: 77}, 'status_delta': {0: 0, 1: 0}}\n",
      "{'iteration': 124, 'status': {}, 'node_count': {0: 312, 1: 77}, 'status_delta': {0: 0, 1: 0}}\n",
      "{'iteration': 125, 'status': {}, 'node_count': {0: 312, 1: 77}, 'status_delta': {0: 0, 1: 0}}\n",
      "{'iteration': 126, 'status': {}, 'node_count': {0: 312, 1: 77}, 'status_delta': {0: 0, 1: 0}}\n",
      "{'iteration': 127, 'status': {}, 'node_count': {0: 312, 1: 77}, 'status_delta': {0: 0, 1: 0}}\n",
      "{'iteration': 128, 'status': {}, 'node_count': {0: 312, 1: 77}, 'status_delta': {0: 0, 1: 0}}\n",
      "{'iteration': 129, 'status': {}, 'node_count': {0: 312, 1: 77}, 'status_delta': {0: 0, 1: 0}}\n",
      "{'iteration': 130, 'status': {}, 'node_count': {0: 312, 1: 77}, 'status_delta': {0: 0, 1: 0}}\n",
      "{'iteration': 131, 'status': {}, 'node_count': {0: 312, 1: 77}, 'status_delta': {0: 0, 1: 0}}\n",
      "{'iteration': 132, 'status': {}, 'node_count': {0: 312, 1: 77}, 'status_delta': {0: 0, 1: 0}}\n",
      "{'iteration': 133, 'status': {}, 'node_count': {0: 312, 1: 77}, 'status_delta': {0: 0, 1: 0}}\n",
      "{'iteration': 134, 'status': {}, 'node_count': {0: 312, 1: 77}, 'status_delta': {0: 0, 1: 0}}\n",
      "{'iteration': 135, 'status': {}, 'node_count': {0: 312, 1: 77}, 'status_delta': {0: 0, 1: 0}}\n",
      "{'iteration': 136, 'status': {}, 'node_count': {0: 312, 1: 77}, 'status_delta': {0: 0, 1: 0}}\n",
      "{'iteration': 137, 'status': {}, 'node_count': {0: 312, 1: 77}, 'status_delta': {0: 0, 1: 0}}\n",
      "{'iteration': 138, 'status': {}, 'node_count': {0: 312, 1: 77}, 'status_delta': {0: 0, 1: 0}}\n",
      "{'iteration': 139, 'status': {}, 'node_count': {0: 312, 1: 77}, 'status_delta': {0: 0, 1: 0}}\n",
      "{'iteration': 140, 'status': {}, 'node_count': {0: 312, 1: 77}, 'status_delta': {0: 0, 1: 0}}\n",
      "{'iteration': 141, 'status': {}, 'node_count': {0: 312, 1: 77}, 'status_delta': {0: 0, 1: 0}}\n",
      "{'iteration': 142, 'status': {}, 'node_count': {0: 312, 1: 77}, 'status_delta': {0: 0, 1: 0}}\n",
      "{'iteration': 143, 'status': {}, 'node_count': {0: 312, 1: 77}, 'status_delta': {0: 0, 1: 0}}\n",
      "{'iteration': 144, 'status': {}, 'node_count': {0: 312, 1: 77}, 'status_delta': {0: 0, 1: 0}}\n",
      "{'iteration': 145, 'status': {}, 'node_count': {0: 312, 1: 77}, 'status_delta': {0: 0, 1: 0}}\n",
      "{'iteration': 146, 'status': {}, 'node_count': {0: 312, 1: 77}, 'status_delta': {0: 0, 1: 0}}\n",
      "{'iteration': 147, 'status': {}, 'node_count': {0: 312, 1: 77}, 'status_delta': {0: 0, 1: 0}}\n",
      "{'iteration': 148, 'status': {}, 'node_count': {0: 312, 1: 77}, 'status_delta': {0: 0, 1: 0}}\n",
      "{'iteration': 149, 'status': {}, 'node_count': {0: 312, 1: 77}, 'status_delta': {0: 0, 1: 0}}\n",
      "{'iteration': 150, 'status': {}, 'node_count': {0: 312, 1: 77}, 'status_delta': {0: 0, 1: 0}}\n",
      "{'iteration': 151, 'status': {}, 'node_count': {0: 312, 1: 77}, 'status_delta': {0: 0, 1: 0}}\n",
      "{'iteration': 152, 'status': {}, 'node_count': {0: 312, 1: 77}, 'status_delta': {0: 0, 1: 0}}\n",
      "{'iteration': 153, 'status': {}, 'node_count': {0: 312, 1: 77}, 'status_delta': {0: 0, 1: 0}}\n",
      "{'iteration': 154, 'status': {}, 'node_count': {0: 312, 1: 77}, 'status_delta': {0: 0, 1: 0}}\n",
      "{'iteration': 155, 'status': {}, 'node_count': {0: 312, 1: 77}, 'status_delta': {0: 0, 1: 0}}\n",
      "{'iteration': 156, 'status': {}, 'node_count': {0: 312, 1: 77}, 'status_delta': {0: 0, 1: 0}}\n",
      "{'iteration': 157, 'status': {}, 'node_count': {0: 312, 1: 77}, 'status_delta': {0: 0, 1: 0}}\n",
      "{'iteration': 158, 'status': {}, 'node_count': {0: 312, 1: 77}, 'status_delta': {0: 0, 1: 0}}\n",
      "{'iteration': 159, 'status': {}, 'node_count': {0: 312, 1: 77}, 'status_delta': {0: 0, 1: 0}}\n",
      "{'iteration': 160, 'status': {}, 'node_count': {0: 312, 1: 77}, 'status_delta': {0: 0, 1: 0}}\n",
      "{'iteration': 161, 'status': {}, 'node_count': {0: 312, 1: 77}, 'status_delta': {0: 0, 1: 0}}\n",
      "{'iteration': 162, 'status': {}, 'node_count': {0: 312, 1: 77}, 'status_delta': {0: 0, 1: 0}}\n",
      "{'iteration': 163, 'status': {}, 'node_count': {0: 312, 1: 77}, 'status_delta': {0: 0, 1: 0}}\n",
      "{'iteration': 164, 'status': {}, 'node_count': {0: 312, 1: 77}, 'status_delta': {0: 0, 1: 0}}\n",
      "{'iteration': 165, 'status': {}, 'node_count': {0: 312, 1: 77}, 'status_delta': {0: 0, 1: 0}}\n",
      "{'iteration': 166, 'status': {}, 'node_count': {0: 312, 1: 77}, 'status_delta': {0: 0, 1: 0}}\n",
      "{'iteration': 167, 'status': {}, 'node_count': {0: 312, 1: 77}, 'status_delta': {0: 0, 1: 0}}\n",
      "{'iteration': 168, 'status': {}, 'node_count': {0: 312, 1: 77}, 'status_delta': {0: 0, 1: 0}}\n",
      "{'iteration': 169, 'status': {}, 'node_count': {0: 312, 1: 77}, 'status_delta': {0: 0, 1: 0}}\n",
      "{'iteration': 170, 'status': {}, 'node_count': {0: 312, 1: 77}, 'status_delta': {0: 0, 1: 0}}\n",
      "{'iteration': 171, 'status': {}, 'node_count': {0: 312, 1: 77}, 'status_delta': {0: 0, 1: 0}}\n",
      "{'iteration': 172, 'status': {}, 'node_count': {0: 312, 1: 77}, 'status_delta': {0: 0, 1: 0}}\n",
      "{'iteration': 173, 'status': {}, 'node_count': {0: 312, 1: 77}, 'status_delta': {0: 0, 1: 0}}\n",
      "{'iteration': 174, 'status': {}, 'node_count': {0: 312, 1: 77}, 'status_delta': {0: 0, 1: 0}}\n",
      "{'iteration': 175, 'status': {}, 'node_count': {0: 312, 1: 77}, 'status_delta': {0: 0, 1: 0}}\n",
      "{'iteration': 176, 'status': {}, 'node_count': {0: 312, 1: 77}, 'status_delta': {0: 0, 1: 0}}\n",
      "{'iteration': 177, 'status': {}, 'node_count': {0: 312, 1: 77}, 'status_delta': {0: 0, 1: 0}}\n",
      "{'iteration': 178, 'status': {}, 'node_count': {0: 312, 1: 77}, 'status_delta': {0: 0, 1: 0}}\n",
      "{'iteration': 179, 'status': {}, 'node_count': {0: 312, 1: 77}, 'status_delta': {0: 0, 1: 0}}\n",
      "{'iteration': 180, 'status': {}, 'node_count': {0: 312, 1: 77}, 'status_delta': {0: 0, 1: 0}}\n",
      "{'iteration': 181, 'status': {}, 'node_count': {0: 312, 1: 77}, 'status_delta': {0: 0, 1: 0}}\n",
      "{'iteration': 182, 'status': {}, 'node_count': {0: 312, 1: 77}, 'status_delta': {0: 0, 1: 0}}\n",
      "{'iteration': 183, 'status': {}, 'node_count': {0: 312, 1: 77}, 'status_delta': {0: 0, 1: 0}}\n",
      "{'iteration': 184, 'status': {}, 'node_count': {0: 312, 1: 77}, 'status_delta': {0: 0, 1: 0}}\n",
      "{'iteration': 185, 'status': {}, 'node_count': {0: 312, 1: 77}, 'status_delta': {0: 0, 1: 0}}\n",
      "{'iteration': 186, 'status': {}, 'node_count': {0: 312, 1: 77}, 'status_delta': {0: 0, 1: 0}}\n",
      "{'iteration': 187, 'status': {}, 'node_count': {0: 312, 1: 77}, 'status_delta': {0: 0, 1: 0}}\n",
      "{'iteration': 188, 'status': {}, 'node_count': {0: 312, 1: 77}, 'status_delta': {0: 0, 1: 0}}\n",
      "{'iteration': 189, 'status': {}, 'node_count': {0: 312, 1: 77}, 'status_delta': {0: 0, 1: 0}}\n",
      "{'iteration': 190, 'status': {}, 'node_count': {0: 312, 1: 77}, 'status_delta': {0: 0, 1: 0}}\n",
      "{'iteration': 191, 'status': {}, 'node_count': {0: 312, 1: 77}, 'status_delta': {0: 0, 1: 0}}\n",
      "{'iteration': 192, 'status': {}, 'node_count': {0: 312, 1: 77}, 'status_delta': {0: 0, 1: 0}}\n",
      "{'iteration': 193, 'status': {}, 'node_count': {0: 312, 1: 77}, 'status_delta': {0: 0, 1: 0}}\n",
      "{'iteration': 194, 'status': {}, 'node_count': {0: 312, 1: 77}, 'status_delta': {0: 0, 1: 0}}\n",
      "{'iteration': 195, 'status': {}, 'node_count': {0: 312, 1: 77}, 'status_delta': {0: 0, 1: 0}}\n",
      "{'iteration': 196, 'status': {}, 'node_count': {0: 312, 1: 77}, 'status_delta': {0: 0, 1: 0}}\n",
      "{'iteration': 197, 'status': {}, 'node_count': {0: 312, 1: 77}, 'status_delta': {0: 0, 1: 0}}\n",
      "{'iteration': 198, 'status': {}, 'node_count': {0: 312, 1: 77}, 'status_delta': {0: 0, 1: 0}}\n",
      "{'iteration': 199, 'status': {}, 'node_count': {0: 312, 1: 77}, 'status_delta': {0: 0, 1: 0}}\n"
     ]
    }
   ],
   "source": [
    "print(type(iterations))\n",
    "for i in range(0,len(iterations)):\n",
    "    print(iterations[i])"
   ]
  }
 ],
 "metadata": {
  "kernelspec": {
   "display_name": "Python 3",
   "language": "python",
   "name": "python3"
  },
  "language_info": {
   "codemirror_mode": {
    "name": "ipython",
    "version": 3
   },
   "file_extension": ".py",
   "mimetype": "text/x-python",
   "name": "python",
   "nbconvert_exporter": "python",
   "pygments_lexer": "ipython3",
   "version": "3.6.7"
  }
 },
 "nbformat": 4,
 "nbformat_minor": 4
}
