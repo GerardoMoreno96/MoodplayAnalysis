{
 "cells": [
  {
   "cell_type": "code",
   "execution_count": 1,
   "metadata": {},
   "outputs": [],
   "source": [
    "import numpy as np\n",
    "import pandas as pd\n",
    "import matplotlib as mpl\n",
    "import matplotlib.pyplot as plt\n",
    "import os\n",
    "import networkx as nx\n",
    "import ndlib.models.ModelConfig as mc\n",
    "import ndlib.models.epidemics as ep\n"
   ]
  },
  {
   "cell_type": "code",
   "execution_count": 2,
   "metadata": {},
   "outputs": [],
   "source": [
    "# Nodes of the graph\n",
    "path = \"./ED_70_nodes.csv\"\n",
    "dfnodes = pd.read_csv(path, sep=\",\")"
   ]
  },
  {
   "cell_type": "code",
   "execution_count": 3,
   "metadata": {},
   "outputs": [],
   "source": [
    "# Edges with different nodes\n",
    "path = \"./ED_70_Edges.csv\"\n",
    "dfedges = pd.read_csv(path, sep=\",\")"
   ]
  },
  {
   "cell_type": "code",
   "execution_count": 4,
   "metadata": {},
   "outputs": [],
   "source": [
    "nodesList = list(dfnodes.Id)"
   ]
  },
  {
   "cell_type": "code",
   "execution_count": 5,
   "metadata": {},
   "outputs": [
    {
     "data": {
      "text/plain": [
       "Index(['Source', 'Target'], dtype='object')"
      ]
     },
     "execution_count": 5,
     "metadata": {},
     "output_type": "execute_result"
    }
   ],
   "source": [
    "dfedges.keys()"
   ]
  },
  {
   "cell_type": "code",
   "execution_count": 6,
   "metadata": {},
   "outputs": [],
   "source": [
    "g=nx.Graph()\n",
    "\n",
    "# Adding nodes\n",
    "for nodes in nodesList:\n",
    "    g.add_node(nodes)\n",
    "\n",
    "# Adding edges\n",
    "for source,target in zip(list(dfedges.Source),list(dfedges.Target)):\n",
    "#     print(source,target)\n",
    "    g.add_edge(source,target)\n",
    "    \n"
   ]
  },
  {
   "cell_type": "code",
   "execution_count": 7,
   "metadata": {},
   "outputs": [],
   "source": [
    "# Converting to undirected graph\n",
    "G = g.to_undirected()"
   ]
  },
  {
   "cell_type": "code",
   "execution_count": 10,
   "metadata": {},
   "outputs": [
    {
     "data": {
      "image/png": "[encoded data removed]",
      "text/plain": [
       "<Figure size 432x288 with 1 Axes>"
      ]
     },
     "metadata": {},
     "output_type": "display_data"
    }
   ],
   "source": [
    "\n",
    "nx.draw_networkx(G,with_labels=False)"
   ]
  },
  {
   "cell_type": "code",
   "execution_count": 11,
   "metadata": {},
   "outputs": [],
   "source": [
    "# dumping ED_70_graph\n",
    "import pickle \n",
    "pickle.dump( G, open( \"ED_70_graph.p\", \"wb\" ) ) "
   ]
  },
  {
   "cell_type": "code",
   "execution_count": 21,
   "metadata": {},
   "outputs": [
    {
     "name": "stderr",
     "output_type": "stream",
     "text": [
      "100%|██████████| 200/200 [00:00<00:00, 287.62it/s]\n",
      "100%|██████████| 200/200 [00:00<00:00, 279.14it/s]\n",
      "100%|██████████| 200/200 [00:00<00:00, 894.49it/s]\n",
      "100%|██████████| 200/200 [00:00<00:00, 329.22it/s]\n"
     ]
    }
   ],
   "source": [
    "# Using FractionInfercted and Threshold to understand cascade network.\n",
    "FractionInfected = [0.1,0.2]\n",
    "Threshold = [0.25,0.75]\n",
    "d = {}\n",
    "for fraction_infected in FractionInfected:\n",
    "    for threshold in Threshold:\n",
    "        model = ep.ThresholdModel(G)\n",
    "        # Model Configuration\n",
    "        config = mc.Configuration()\n",
    "        # fraction_infected (0.1,0.2)\n",
    "        config.add_model_parameter('fraction_infected', fraction_infected)\n",
    "\n",
    "        # Setting node parameters\n",
    "        for i in G.nodes():\n",
    "            config.add_node_configuration(\"threshold\", i, threshold)\n",
    "\n",
    "        model.set_initial_status(config)\n",
    "\n",
    "        # Simulation execution\n",
    "        iterations = model.iteration_bunch(200)\n",
    "        key = \"Fraction=\" + str(fraction_infected)+ \" Threshold=\"+str(threshold) + \" 200thIteration\"\n",
    "        d[key] = iterations[-1]\n",
    "#         print(\"Fraction:{} , Threshold:{}, Iterations_200:{}\".format(fraction_infected,threshold,iterations[-1]))\n",
    "    "
   ]
  },
  {
   "cell_type": "code",
   "execution_count": 22,
   "metadata": {},
   "outputs": [
    {
     "data": {
      "text/plain": [
       "{'Fraction=0.1 Threshold=0.25 200thIteration': {'iteration': 199,\n",
       "  'status': {},\n",
       "  'node_count': {0: 351, 1: 38},\n",
       "  'status_delta': {0: 0, 1: 0}},\n",
       " 'Fraction=0.1 Threshold=0.75 200thIteration': {'iteration': 199,\n",
       "  'status': {},\n",
       "  'node_count': {0: 351, 1: 38},\n",
       "  'status_delta': {0: 0, 1: 0}},\n",
       " 'Fraction=0.2 Threshold=0.25 200thIteration': {'iteration': 199,\n",
       "  'status': {},\n",
       "  'node_count': {0: 87, 1: 302},\n",
       "  'status_delta': {0: 0, 1: 0}},\n",
       " 'Fraction=0.2 Threshold=0.75 200thIteration': {'iteration': 199,\n",
       "  'status': {},\n",
       "  'node_count': {0: 312, 1: 77},\n",
       "  'status_delta': {0: 0, 1: 0}}}"
      ]
     },
     "execution_count": 22,
     "metadata": {},
     "output_type": "execute_result"
    }
   ],
   "source": [
    "# (e.g. 0.1, 0.25, 0.5, 0.75)\n",
    "d"
   ]
  },
  {
   "cell_type": "code",
   "execution_count": 14,
   "metadata": {},
   "outputs": [
    {
     "name": "stdout",
     "output_type": "stream",
     "text": [
      "<class 'list'>\n",
      "{'iteration': 0, 'status': {'JudgeDread-BigSeven': 0, 'GramParsons-CryOneMoreTime': 1, \"HankWilliams-MySweetLoveAin'tAround\": 0, \"TheKing'sSingers-Can'tBuyMeLove\": 0, 'CharlieRich-LifeHasItsLittleUpsAndDowns': 0, 'RosanneCash-TheWheel': 1, 'SteveEarle-FearlessHeart': 0, 'JohnGorka-WhereTheBottlesBreak': 0, \"MerleHaggard-It'sNotLove(ButIt'sNotBad)\": 1, 'TheHouseOfLove-Ray': 0, 'BlindLemonJefferson-RamblerBlues': 0, 'MethodMan-PerfectWorld': 0, 'NovembersDoom-Awaken': 0, \"Nonchalant-5O'Clock\": 0, \"Ol'DirtyBastard-Gettin'High\": 0, 'TheDivineComedy-ThereIsALightThatNeverGoesOut': 0, 'Everlast-SoLong': 0, \"ProdigyOfMobbDeep-Don'tBeAFollower\": 0, 'RayPrice-HeartachesByTheNumber': 1, 'JohnCale-GhostStory': 0, 'TheLangleySchoolsMusicProject-GodOnlyKnows': 0, 'Hooverphonic-TheLastSupper': 1, 'DaynaKurtz-FredAstaire': 1, 'UncleTupelo-WhiskeyBottle': 1, 'MississippiFredMcDowell-61Highway': 0, 'GillianWelch-OneMonkey': 0, 'HowardShore-CirithUngol': 0, 'JorgeBen-CassiusMarcellusClay': 0, 'ShannonNoll-NewBeginning': 0, 'BuffySainte-Marie-EyesOfAmber': 0, 'NickelCreek-BestOfLuck': 0, 'JeffreyFoucault-CrossOfFlowers': 0, 'Eminem-Stan': 0, 'PorterWagoner-TheRubberRoom': 0, 'BenHarper-MoreThanSorry': 0, 'ArthurRussell-HomeAwayFromHome': 0, 'TheOnlyOnes-SomeoneWhoCares': 0, 'RascalFlatts-Holes': 0, 'Goldspot-TimeBomb': 0, 'AnimalCollective-College': 0, 'MobbDeep-TheStartOfYourEnding(41stSide)': 0, 'LeAnnRimes-WhatICannotChange': 1, 'StephenSondheim-OpeningTitle': 1, 'TheEverybodyfields-LonelyAnywhere': 0, 'TheEverybodyfields-BeMiner': 0, 'JohnBarry-TheDeathOfTimmons': 1, \"MississippiSheiks-I'veGotBloodInMyEyesForYou\": 0, 'Afi-SilverAndCold': 0, 'LosLobos-PhoneCall': 1, 'StoryOne-ComingUp': 1, 'LilyHolbrook-WelcomeToTheSlaughterhouse': 0, 'Shinedown-WhatAShame': 0, 'Innerpartysystem-WhatWeWillNeverKnow': 1, 'ChiddyBang-NothingOnWe': 0, 'SageFrancis-TheBestOfTimes': 1, 'Leadbelly-WhereDidYouSleepLastNight?': 0, 'Jazztronik-Phoenix': 0, 'MattElliott-TheDogBeneathTheSkin': 0, 'Tyler-TheCreator': 1, 'ArcticMonkeys-TheHellcatSpangledShalalala': 0, 'ViktorVaughn-Lickupon': 0, 'AngeloBadalamenti-MulhollandDrive': 1, 'AngeloBadalamenti-Diner': 1, 'JunkieXL-EvenInThisMoment': 0, \"DoloresO'Riordan-AveMaria\": 0, 'Wu-TangClan-DuckSeazon': 0, 'CellaDwellas-MedinaStyle': 1, 'HarryGregson-Williams-ANarniaLullaby': 1, 'Flobots-Combat': 0, 'AntiPopConsortium-FluorescentBlack': 0, 'Doom-Ballskin': 0, 'SisterRosettaTharpe-DownByTheRiverside': 0, 'MastaAce-Acknowledge': 1, 'RootsManuva-EvilRabbit': 1, 'MarilynManson-TheSuckForYourSolution': 1, 'DavidByrne-Inexorable': 0, 'SkylarGrey-Invisible': 1, 'WillieWilliams-ArmagideonTime': 0, 'KrisKristofferson-WhyMe': 1, 'JuniorKelly-StandingFirm': 0, 'GillianWelch-RockOfAges': 0, 'TheBlindBoysOfAlabama-RunOnForALongTime': 0, 'PattyLoveless-RiseUpLazarus': 0, \"SisterRosettaTharpe-That'sAll\": 0, \"LorettaLynn-Women'sPrison\": 0, 'TommyMcCook-TheSaint': 0, 'ThePriests-PanisAngelicus': 1, 'BlindLemonJefferson-SeeThatMyGraveIsKeptClean': 0, 'SisterRosettaTharpe-RockMe': 0, 'ThePriests-Benedictus': 0, 'HoratioLeeJenkins-DrunkerThanSatan': 0, 'IanGillan-Gethsemane(IOnlyWantToSay)': 0, 'KarlJenkins-Charge!': 0, 'ThirdDay-MountainOfGod': 1, 'MatthewWest-TheMotions': 1, 'SacredSpirit-Dawa': 0, 'TheBachelors-Diane': 0, 'SamanthaSang-Emotion': 0, 'BobBrookmeyer-AFelicidade': 0, 'TheRoyalPhilharmonicOrchestra-HookedOnRomance': 0, 'JohnTesh-HalcyonDays': 0, \"GaleGarnett-We'llSingInTheSunshine\": 0, 'JimReeves-DistantDrums': 0, 'TheOut-Islanders-MoonMist': 0, 'Interference-Gold': 0, 'KarlMaddison-FriendshipHighway': 0, 'RogueWave-Sightlines': 0, 'BennyMardones-IntoTheNight': 0, 'KarlaBonoff-SomeoneToLayDownBesideMe': 0, 'Player-BabyComeBack': 0, 'AlbertCummings-FirstDay': 0, 'KathrynWilliams-White': 0, 'MaryMacGregor-TornBetweenTwoLovers': 0, 'GeorgeFenton-TheGirlInTheFan': 0, 'RichardHellAndTheVoidoids-BlankGeneration': 1, 'BigJoeTurner-ShakeRattleAndRoll': 0, 'BruceChannel-HeyBaby': 0, 'LittleMilton-BlindMan': 1, 'MelMcDaniel-LouisianaSaturdayNight': 1, 'DollyParton-MarryMe': 0, 'SisterSledge-AllAmericanGirls': 0, 'BigMamaThornton-HoundDog': 0, 'MerryClayton-Yes': 0, \"TheEmileBergsteinChorale-Kellerman'sAnthem\": 0, 'JerryDouglas-Takarasaka': 0, 'TimMcGraw-WheretheGreenGrassGrows': 0, 'SuzyBogguss-OutboundPlane': 0, 'ZZTop-Bar-B-Q': 0, 'LarryYoung-TheMoontrane': 0, 'DavidBenoit-SailingThroughtheCity': 0, 'LeeMorgan-TheSidewinder': 0, \"GreatBigSea-WhenI'mUp(ICan'tGetDown)\": 0, 'TheSawDoctors-IUsetaLover': 0, 'Kaoma-ChachaLaVie': 0, 'KathyMattea-455Rocket': 0, 'HayleyMills-PollyannaSong': 0, \"MaryMargaretO'Hara-KeepingYouInMind\": 0, 'RenegadeSoundwave-BitingMyNails': 1, \"StereoMC's-Creation\": 0, 'TheVaughanBrothers-HardToBe': 1, 'Akasha-JazzGarage': 0, 'Xzibit-BreakYourself': 0, 'DanSeals-Bop': 0, 'SusanaBaca-SeMeVanLosPies': 0, 'FlashAndThePan-MidnightMan': 0, 'TrickPony-PourMe': 0, \"TheDubliners-Finnegan'sWake\": 0, 'Sidestepper-DameTuQuerer': 0, 'TheSelecter-MissingWords': 0, 'TerriClark-IJustWannaBeMad': 0, 'Nu-AnyOtherGirl': 0, \"DannyElfman-Roxie'sSuite\": 0, 'Rednex-CottonEyeJoe': 0, 'MFSB-PhiladelphiaFreedom': 0, 'ArturoSandoval-Be-Bop': 0, 'ManuDibango-PepeSoup': 1, 'Brakes-AllNightDiscoParty': 0, 'PPArnold-AngelOfTheMorning': 0, 'HayseedDixie-Roses': 0, 'YoungTiger-CalypsoBe': 0, 'JuneChristy-TheMerriest(ThunderballMix)': 0, 'Diesler-DawnOfTheDead': 0, \"DelbertMcClinton-Givin'ItUpForYourLove\": 0, 'Milburn-CheshireCatSmile': 0, 'JosefK-16Years': 0, 'EricCarmen-HungryEyes': 0, 'JacksonSisters-IBelieveInMiracles': 0, 'Donnie-911': 0, 'BowWow-FreshAzimiz': 1, 'GarthBrooks-WrappedUpInYou': 0, \"WhiteDenim-Let'sTalkAboutIt\": 0, 'Yellowjackets-AndYouKnowThat': 0, 'Sailor-Harbour': 0, 'FutureOfTheLeft-DrinkNike': 0, 'MarcosValle-Garra': 0, 'FemiKuti-BengBengBeng': 1, 'KylieAuldist-CutYouLoose': 0, 'WizKhalifa-BlackAndYellow': 0, 'CalvinHarris-ReadyForTheWeekend': 0, 'NoAndTheMaybes-PetraPetrified': 0, 'FenixTX-Threesome': 0, 'NanciGriffith-TheseDaysInAnOpenBook': 0, 'NanciGriffith-GoingBackToGeorgia': 0, 'RayBarretto-PastimeParadise': 1, 'TerryCallier-OccasionalRain': 0, 'Valeria-RhythmOfTheNight': 0, 'D12-BlowMyBuzz': 0, 'PlasticOperator-Folder': 0, 'TitoPuente-TakeFive': 0, \"Len-Feelin'Alright\": 0, 'GreatWhite-OldRoseMotel': 0, 'XTC-SeasonCycle': 0, 'TheHumanBeinz-NobodyButMe': 0, 'Faces-BorstalBoys': 0, 'LoneJustice-EastOfEden': 0, 'JeremiahClarke-TrumpetVoluntary': 0, 'TenpoleTudor-Wunderbar': 0, 'VaughnMonroe-MyDevotion': 1, \"DogsDieInHotCars-PaulNewman'sEyes\": 0, 'LosLonelyBoys-Diamonds': 0, 'Pinback-Wasted': 0, 'LesSavyFav-Yawn': 1, 'SarahCracknell-Anymore': 0, \"TootsAndTheMaytals-ICan'tBelieve\": 0, 'BWO-SixteenTonsOfHardware': 0, 'MondoGenerator-LikeYouWant': 0, \"StephenMalkmusAndTheJicks-WeCan'tHelpYou\": 0, 'TheSlits-Spend': 0, \"Screamin'JayHawkins-IsYouIsOrIsYouAin'tMyBaby\": 1, \"Poison-IWon'tForgetYou\": 0, 'Warrant-ISawRed': 1, \"CarrieUnderwood-IAin'tInChecotahAnymore\": 1, 'Poison-LetMeGoToTheShow': 0, 'Warrant-BlindFaith': 0, 'TheWildTchoupitoulas-MeetDeBoysOnTheBattlefront': 0, \"JoeSimon-TheChokin'Kind\": 0, \"AnneShelton-I'llBeSeeingYou\": 0, 'SonnyTerry-CrowJane': 1, 'BrentonWood-TheOogumBoogumSong': 0, 'Altan-DonalAgusMorag': 0, 'TheBand-AcrossTheGreatDivide': 0, \"ElvinBishop-Devil'sSlide\": 0, 'TheJudds-LoveCanBuildABridge': 0, 'PaulDavis-SweetLife': 1, 'PaulDavis-CryJustALittle': 0, 'PaulDavis-DoRight': 0, 'StanleyTurrentine-GodBlessTheChild': 0, 'DavidCrosby-TamalpaisHigh(AtAbout3)': 0, 'KikiDee-Amoureuse': 0, 'DanFogelberg-MoreThanEver': 0, 'IceCube-WhatCanIDo?': 1, 'CrystalGayle-HalfTheWay': 1, 'AlvinYoungbloodHart-GallowsPole': 0, 'MahaliaJackson-IWillMoveOnUpALittleHigher': 0, 'ChebMami-Bledi': 0, 'Mishka-WhenTheRainComesDown': 0, \"AnitaO'Day-LetMeOffUptown\": 1, 'CollinRaye-ManOfMyWord': 1, 'Tiffany-FeelingsOfForever': 0, 'StevieRayVaughan-TheThings(That)IUsedToDo': 0, 'PhilipAaberg-WalkingThroughWalls': 0, 'RoyGerson-IfIHadYou': 0, 'Fischer-Z-SoLong': 0, 'AlWilson-PoorSideOfTown': 0, 'SamanthaJones-MyWay': 0, 'OliviaNewton-John-DeeperThanARiver': 0, 'RichieSambora-BalladOfYouth': 0, 'PhoebeSnow-AllOver': 0, 'Whiskeytown-WhatTheDevilWanted': 0, 'JohnCameron-HalfForgottenDaydreams': 0, 'TheWaterboys-E.B.O.L.': 1, 'FloydCramer-LastDate': 0, 'TheMutatoMuzikaOrchestra-HeyJude': 0, 'JonathanRichman-SundayAfternoon': 0, 'DavidKnopfler-ShineShineShine': 0, 'DjangoReinhardt-Naguine': 0, 'CatherineFeeny-HushNow': 0, 'DukeSpecial-WakeUpScarlett': 0, 'KellyJoePhelps-TheAnvil': 0, 'DavidArnold-CityOfLovers': 0, 'ChrisKnight-HereComesTheRain': 0, \"Ben'sBrother-BeautyQueen\": 1, 'PaulPotts-NellaFantasia': 0, 'JimmyEatWorld-Blister': 1, \"JimHall-It'sNiceToBeWithYou\": 0, 'Hauschka-Belgrade': 1, 'CharlesTrenet-DouceFrance': 0, 'BenLee-Home': 1, \"CrazyHorse-IDon'tWantToTalkAboutIt\": 1, 'OiVaVoi-MagicCarpet': 0, 'Kutless-StrongTower': 1, 'Kisses-PeopleCanDoTheMostAmazingThings': 0, 'Hopesfall-Redshift': 0, 'TheByrds-FromADistance': 0, 'StanleyJordan-AllTheChildren': 0, 'AnneMurray-TalkItOverInTheMorning': 0, 'Lambretta-PerfectTonight': 0, 'Hausmarke-NachtfieberAmLagerfeuer': 0, 'DavidHolmes-TheTrunkScene': 0, \"NicoleKidman-OneDayI'llFlyAway(TonyPhillipsRemix)\": 0, 'TiredPony-Pieces': 0, 'ChavelaVargas-LaLlorona': 0, 'TheRoches-HammondSong': 0, 'Koru-Closer': 0, 'MemphisMinnie-MyStrangeMan': 0, 'SheepOnDrugs-MaryJane': 0, 'JimmyReed-BrightLights': 0, 'Bedlam-HarvestMoon': 0, 'Alabama-BornCountry': 0, 'BoDiddley-Cadillac': 0, 'Pilote-CanYouKeepASecret?': 0, \"Alabama-Can'tKeepAGoodManDown\": 0, 'TajMahal-ItTakesALotToLaugh': 0, 'TheAvettBrothers-Distraction#74': 1, 'AC/DC-CaughtWithYourPantsDown': 0, 'Rammstein-DuHast(RemixByClawfinger)': 0, 'DeadKennedys-Halloween': 0, 'Ratt-LayItDown': 0, 'DaBrat-GiveIt2You': 1, 'Accept-BallsToTheWall': 1, 'Raekwon-IncarceratedScarfaces': 0, 'Halford-Resurrection': 0, 'AngelWitch-AngelWitch': 0, 'Exodus-FabulousDisaster': 0, 'LittleJimmyDickens-MayTheBirdOfParadiseFlyUpYourNose': 0, 'Sepultura-SymptomOfTheUniverse': 0, 'KidRock-Bawitdaba': 0, 'Anthrax-BellyOfTheBeast': 0, 'BlackSheep-TheChoiceIsYours': 0, 'MarilynManson-MisterSuperstar': 0, 'DavidLeeRoth-YankeeRose': 1, 'Saxon-Crusader': 0, 'ArmandVanHelden-NecessaryEvil': 1, \"VanHalen-Runnin'WithTheDevil\": 0, \"TheHighNumbers-I'mTheFace\": 1, 'Whitesnake-CryingInTheRain': 0, 'NapalmDeath-TwistTheKnife(Slowly)': 1, 'TalBachman-Romanticide': 0, \"BoyHitsCar-I'mACloud\": 0, \"BonJovi-I'dDieForYou\": 0, 'TheDisposableHeroesOfHiphoprisy-SatanicReverses': 1, 'TheSpecials-FridayNight': 0, 'D12-ObieTrice(Skit)': 1, 'DMX-StopBeingGreedy': 1, 'CircleJerks-UnderTheGun': 0, 'Curve-DirtyHigh': 0, 'Danzig-Godless': 0, 'Danzig-Bodies': 0, 'Danzig-DoYouWearTheMark': 0, 'Deftones-AroundTheFur': 1, 'Deftones-Rickets': 0, \"DefLeppard-Foolin'\": 0, 'Deftones-Korea': 0, 'DefLeppard-RunRiot': 0, 'LitaFord-Hungry': 0, 'Firehouse-OvernightSensation': 0, 'Dope-Debonaire': 1, 'Doro-UnholyLove': 0, 'BruceDickinson-TakingTheQueen': 0, 'BruceDickinson-RoadToHell': 0, 'BruceDickinson-Omega': 0, 'BruceDickinson-AllTheYoungDudes': 0, \"Lil'Kim-SuckMyD**k\": 1, \"GunsN'Roses-IDon'tCareAboutYou\": 0, 'GreenDay-TightWadHill': 1, 'RobertPalmer-FleshWound': 0, 'FearOfPop-RootToThis': 0, \"Filter-It'sGonnaKillMe\": 1, 'Filter-Cancer': 0, 'YngwieMalmsteen-Teaser': 0, 'YngwieMalmsteen-FireAndIce': 0, \"YngwieMalmsteen-I'mMyOwnEnemy\": 0, 'YngwieMalmsteen-GoldenDawn': 0, 'TheMightyMightyBosstones-IKnowMore': 0, 'MysticCircle-LucifersAngel': 0, 'VinceNeil-SisterOfPain': 0, 'Nelson-RightBeforeYourEyes': 0, 'Poison-CryTough': 1, 'IggyPop-ButtTown': 0, 'Prong-Cut-Rate': 0, 'MichaelSchenkerGroup-AssaultAttack': 0, 'Sevendust-Headtrip': 0, 'Sevendust-Crumbled': 0, \"SkidRow-Livin'OnAChainGang\": 0, 'SkidRow-RiotAct': 0, 'SuicidalTendencies-JoinTheNewArmy': 1, 'SuicidalTendencies-HowWillILaughTomorrow': 0, 'TempleOfTheDog-WoodenJesus': 0, 'AC/DC-ShakeALeg': 1, \"AC/DC-RockAndRollAin'tNoisePollution\": 1, 'Thunder-AnEnglishmanOnHoliday': 0, \"ToraTora-Love'sABitch\": 1, \"MelanieC-Goin'Down\": 0, 'TheRoots-Web': 0, \"RollDeep-WhenI'm'Ere\": 0, \"RayJ-KeepSweatin'\": 0, 'IcedEarth-IWalkAlone': 0, 'AtariTeenageRiot-Destroy2000YearsOfCulture': 0, 'AtariTeenageRiot-IntoTheDeath': 0, 'Clawfinger-OutToGetMe': 0, 'Clawfinger-PinMeDown': 1, 'Clawfinger-StepAside': 0, 'Deathstars-TheLastAmmunition': 0, 'Finch-ProjectMayhem': 1, 'Kiss-GodOfThunder': 1, 'TheSugarcubes-Pump': 0, \"VanHalen-Jamie'sCryin'\": 0, '3InchesOfBlood-PremonitionOfPain': 0, '3InchesOfBlood-NightMarauders': 0}, 'node_count': {0: 312, 1: 77}, 'status_delta': {0: 0, 1: 0}}\n",
      "{'iteration': 1, 'status': {'JudgeDread-BigSeven': 1, 'BlindLemonJefferson-RamblerBlues': 1, \"Nonchalant-5O'Clock\": 1, \"ProdigyOfMobbDeep-Don'tBeAFollower\": 1, 'HowardShore-CirithUngol': 1, 'JeffreyFoucault-CrossOfFlowers': 1, 'ArthurRussell-HomeAwayFromHome': 1, \"MississippiSheiks-I'veGotBloodInMyEyesForYou\": 1, 'ChiddyBang-NothingOnWe': 1, 'Leadbelly-WhereDidYouSleepLastNight?': 1, 'ViktorVaughn-Lickupon': 1, 'JunkieXL-EvenInThisMoment': 1, 'Doom-Ballskin': 1, 'JuniorKelly-StandingFirm': 1, \"LorettaLynn-Women'sPrison\": 1, 'KarlJenkins-Charge!': 1}, 'node_count': {0: 296, 1: 93}, 'status_delta': {0: -16, 1: 16}}\n",
      "{'iteration': 2, 'status': {\"HankWilliams-MySweetLoveAin'tAround\": 1, \"TheKing'sSingers-Can'tBuyMeLove\": 1, 'CharlieRich-LifeHasItsLittleUpsAndDowns': 1, 'SteveEarle-FearlessHeart': 1, 'JohnGorka-WhereTheBottlesBreak': 1, 'TheHouseOfLove-Ray': 1, 'MethodMan-PerfectWorld': 1, 'NovembersDoom-Awaken': 1, \"Ol'DirtyBastard-Gettin'High\": 1, 'TheDivineComedy-ThereIsALightThatNeverGoesOut': 1, 'Everlast-SoLong': 1, 'JohnCale-GhostStory': 1, 'TheLangleySchoolsMusicProject-GodOnlyKnows': 1, 'MississippiFredMcDowell-61Highway': 1, 'GillianWelch-OneMonkey': 1, 'JorgeBen-CassiusMarcellusClay': 1, 'ShannonNoll-NewBeginning': 1, 'BuffySainte-Marie-EyesOfAmber': 1, 'NickelCreek-BestOfLuck': 1, 'Eminem-Stan': 1, 'PorterWagoner-TheRubberRoom': 1, 'BenHarper-MoreThanSorry': 1, 'TheOnlyOnes-SomeoneWhoCares': 1, 'RascalFlatts-Holes': 1, 'Goldspot-TimeBomb': 1, 'AnimalCollective-College': 1, 'MobbDeep-TheStartOfYourEnding(41stSide)': 1, 'TheEverybodyfields-LonelyAnywhere': 1, 'TheEverybodyfields-BeMiner': 1, 'Afi-SilverAndCold': 1, 'LilyHolbrook-WelcomeToTheSlaughterhouse': 1, 'Shinedown-WhatAShame': 1, 'Jazztronik-Phoenix': 1, 'MattElliott-TheDogBeneathTheSkin': 1, 'ArcticMonkeys-TheHellcatSpangledShalalala': 1, \"DoloresO'Riordan-AveMaria\": 1, 'Wu-TangClan-DuckSeazon': 1, 'Flobots-Combat': 1, 'AntiPopConsortium-FluorescentBlack': 1, 'SisterRosettaTharpe-DownByTheRiverside': 1, 'DavidByrne-Inexorable': 1, 'WillieWilliams-ArmagideonTime': 1, 'GillianWelch-RockOfAges': 1, 'TheBlindBoysOfAlabama-RunOnForALongTime': 1, 'PattyLoveless-RiseUpLazarus': 1, \"SisterRosettaTharpe-That'sAll\": 1, 'TommyMcCook-TheSaint': 1, 'BlindLemonJefferson-SeeThatMyGraveIsKeptClean': 1, 'SisterRosettaTharpe-RockMe': 1, 'ThePriests-Benedictus': 1, 'HoratioLeeJenkins-DrunkerThanSatan': 1, 'IanGillan-Gethsemane(IOnlyWantToSay)': 1}, 'node_count': {0: 244, 1: 145}, 'status_delta': {0: -52, 1: 52}}\n",
      "{'iteration': 3, 'status': {}, 'node_count': {0: 244, 1: 145}, 'status_delta': {0: 0, 1: 0}}\n",
      "{'iteration': 4, 'status': {}, 'node_count': {0: 244, 1: 145}, 'status_delta': {0: 0, 1: 0}}\n",
      "{'iteration': 5, 'status': {}, 'node_count': {0: 244, 1: 145}, 'status_delta': {0: 0, 1: 0}}\n",
      "{'iteration': 6, 'status': {}, 'node_count': {0: 244, 1: 145}, 'status_delta': {0: 0, 1: 0}}\n",
      "{'iteration': 7, 'status': {}, 'node_count': {0: 244, 1: 145}, 'status_delta': {0: 0, 1: 0}}\n",
      "{'iteration': 8, 'status': {}, 'node_count': {0: 244, 1: 145}, 'status_delta': {0: 0, 1: 0}}\n",
      "{'iteration': 9, 'status': {}, 'node_count': {0: 244, 1: 145}, 'status_delta': {0: 0, 1: 0}}\n",
      "{'iteration': 10, 'status': {}, 'node_count': {0: 244, 1: 145}, 'status_delta': {0: 0, 1: 0}}\n",
      "{'iteration': 11, 'status': {}, 'node_count': {0: 244, 1: 145}, 'status_delta': {0: 0, 1: 0}}\n",
      "{'iteration': 12, 'status': {}, 'node_count': {0: 244, 1: 145}, 'status_delta': {0: 0, 1: 0}}\n",
      "{'iteration': 13, 'status': {}, 'node_count': {0: 244, 1: 145}, 'status_delta': {0: 0, 1: 0}}\n",
      "{'iteration': 14, 'status': {}, 'node_count': {0: 244, 1: 145}, 'status_delta': {0: 0, 1: 0}}\n",
      "{'iteration': 15, 'status': {}, 'node_count': {0: 244, 1: 145}, 'status_delta': {0: 0, 1: 0}}\n",
      "{'iteration': 16, 'status': {}, 'node_count': {0: 244, 1: 145}, 'status_delta': {0: 0, 1: 0}}\n",
      "{'iteration': 17, 'status': {}, 'node_count': {0: 244, 1: 145}, 'status_delta': {0: 0, 1: 0}}\n",
      "{'iteration': 18, 'status': {}, 'node_count': {0: 244, 1: 145}, 'status_delta': {0: 0, 1: 0}}\n",
      "{'iteration': 19, 'status': {}, 'node_count': {0: 244, 1: 145}, 'status_delta': {0: 0, 1: 0}}\n",
      "{'iteration': 20, 'status': {}, 'node_count': {0: 244, 1: 145}, 'status_delta': {0: 0, 1: 0}}\n",
      "{'iteration': 21, 'status': {}, 'node_count': {0: 244, 1: 145}, 'status_delta': {0: 0, 1: 0}}\n",
      "{'iteration': 22, 'status': {}, 'node_count': {0: 244, 1: 145}, 'status_delta': {0: 0, 1: 0}}\n",
      "{'iteration': 23, 'status': {}, 'node_count': {0: 244, 1: 145}, 'status_delta': {0: 0, 1: 0}}\n",
      "{'iteration': 24, 'status': {}, 'node_count': {0: 244, 1: 145}, 'status_delta': {0: 0, 1: 0}}\n",
      "{'iteration': 25, 'status': {}, 'node_count': {0: 244, 1: 145}, 'status_delta': {0: 0, 1: 0}}\n",
      "{'iteration': 26, 'status': {}, 'node_count': {0: 244, 1: 145}, 'status_delta': {0: 0, 1: 0}}\n",
      "{'iteration': 27, 'status': {}, 'node_count': {0: 244, 1: 145}, 'status_delta': {0: 0, 1: 0}}\n",
      "{'iteration': 28, 'status': {}, 'node_count': {0: 244, 1: 145}, 'status_delta': {0: 0, 1: 0}}\n",
      "{'iteration': 29, 'status': {}, 'node_count': {0: 244, 1: 145}, 'status_delta': {0: 0, 1: 0}}\n",
      "{'iteration': 30, 'status': {}, 'node_count': {0: 244, 1: 145}, 'status_delta': {0: 0, 1: 0}}\n",
      "{'iteration': 31, 'status': {}, 'node_count': {0: 244, 1: 145}, 'status_delta': {0: 0, 1: 0}}\n",
      "{'iteration': 32, 'status': {}, 'node_count': {0: 244, 1: 145}, 'status_delta': {0: 0, 1: 0}}\n",
      "{'iteration': 33, 'status': {}, 'node_count': {0: 244, 1: 145}, 'status_delta': {0: 0, 1: 0}}\n",
      "{'iteration': 34, 'status': {}, 'node_count': {0: 244, 1: 145}, 'status_delta': {0: 0, 1: 0}}\n",
      "{'iteration': 35, 'status': {}, 'node_count': {0: 244, 1: 145}, 'status_delta': {0: 0, 1: 0}}\n",
      "{'iteration': 36, 'status': {}, 'node_count': {0: 244, 1: 145}, 'status_delta': {0: 0, 1: 0}}\n",
      "{'iteration': 37, 'status': {}, 'node_count': {0: 244, 1: 145}, 'status_delta': {0: 0, 1: 0}}\n",
      "{'iteration': 38, 'status': {}, 'node_count': {0: 244, 1: 145}, 'status_delta': {0: 0, 1: 0}}\n",
      "{'iteration': 39, 'status': {}, 'node_count': {0: 244, 1: 145}, 'status_delta': {0: 0, 1: 0}}\n",
      "{'iteration': 40, 'status': {}, 'node_count': {0: 244, 1: 145}, 'status_delta': {0: 0, 1: 0}}\n",
      "{'iteration': 41, 'status': {}, 'node_count': {0: 244, 1: 145}, 'status_delta': {0: 0, 1: 0}}\n",
      "{'iteration': 42, 'status': {}, 'node_count': {0: 244, 1: 145}, 'status_delta': {0: 0, 1: 0}}\n",
      "{'iteration': 43, 'status': {}, 'node_count': {0: 244, 1: 145}, 'status_delta': {0: 0, 1: 0}}\n",
      "{'iteration': 44, 'status': {}, 'node_count': {0: 244, 1: 145}, 'status_delta': {0: 0, 1: 0}}\n",
      "{'iteration': 45, 'status': {}, 'node_count': {0: 244, 1: 145}, 'status_delta': {0: 0, 1: 0}}\n",
      "{'iteration': 46, 'status': {}, 'node_count': {0: 244, 1: 145}, 'status_delta': {0: 0, 1: 0}}\n",
      "{'iteration': 47, 'status': {}, 'node_count': {0: 244, 1: 145}, 'status_delta': {0: 0, 1: 0}}\n",
      "{'iteration': 48, 'status': {}, 'node_count': {0: 244, 1: 145}, 'status_delta': {0: 0, 1: 0}}\n",
      "{'iteration': 49, 'status': {}, 'node_count': {0: 244, 1: 145}, 'status_delta': {0: 0, 1: 0}}\n",
      "{'iteration': 50, 'status': {}, 'node_count': {0: 244, 1: 145}, 'status_delta': {0: 0, 1: 0}}\n",
      "{'iteration': 51, 'status': {}, 'node_count': {0: 244, 1: 145}, 'status_delta': {0: 0, 1: 0}}\n",
      "{'iteration': 52, 'status': {}, 'node_count': {0: 244, 1: 145}, 'status_delta': {0: 0, 1: 0}}\n",
      "{'iteration': 53, 'status': {}, 'node_count': {0: 244, 1: 145}, 'status_delta': {0: 0, 1: 0}}\n",
      "{'iteration': 54, 'status': {}, 'node_count': {0: 244, 1: 145}, 'status_delta': {0: 0, 1: 0}}\n",
      "{'iteration': 55, 'status': {}, 'node_count': {0: 244, 1: 145}, 'status_delta': {0: 0, 1: 0}}\n",
      "{'iteration': 56, 'status': {}, 'node_count': {0: 244, 1: 145}, 'status_delta': {0: 0, 1: 0}}\n",
      "{'iteration': 57, 'status': {}, 'node_count': {0: 244, 1: 145}, 'status_delta': {0: 0, 1: 0}}\n",
      "{'iteration': 58, 'status': {}, 'node_count': {0: 244, 1: 145}, 'status_delta': {0: 0, 1: 0}}\n",
      "{'iteration': 59, 'status': {}, 'node_count': {0: 244, 1: 145}, 'status_delta': {0: 0, 1: 0}}\n",
      "{'iteration': 60, 'status': {}, 'node_count': {0: 244, 1: 145}, 'status_delta': {0: 0, 1: 0}}\n",
      "{'iteration': 61, 'status': {}, 'node_count': {0: 244, 1: 145}, 'status_delta': {0: 0, 1: 0}}\n",
      "{'iteration': 62, 'status': {}, 'node_count': {0: 244, 1: 145}, 'status_delta': {0: 0, 1: 0}}\n",
      "{'iteration': 63, 'status': {}, 'node_count': {0: 244, 1: 145}, 'status_delta': {0: 0, 1: 0}}\n",
      "{'iteration': 64, 'status': {}, 'node_count': {0: 244, 1: 145}, 'status_delta': {0: 0, 1: 0}}\n",
      "{'iteration': 65, 'status': {}, 'node_count': {0: 244, 1: 145}, 'status_delta': {0: 0, 1: 0}}\n",
      "{'iteration': 66, 'status': {}, 'node_count': {0: 244, 1: 145}, 'status_delta': {0: 0, 1: 0}}\n",
      "{'iteration': 67, 'status': {}, 'node_count': {0: 244, 1: 145}, 'status_delta': {0: 0, 1: 0}}\n",
      "{'iteration': 68, 'status': {}, 'node_count': {0: 244, 1: 145}, 'status_delta': {0: 0, 1: 0}}\n",
      "{'iteration': 69, 'status': {}, 'node_count': {0: 244, 1: 145}, 'status_delta': {0: 0, 1: 0}}\n",
      "{'iteration': 70, 'status': {}, 'node_count': {0: 244, 1: 145}, 'status_delta': {0: 0, 1: 0}}\n",
      "{'iteration': 71, 'status': {}, 'node_count': {0: 244, 1: 145}, 'status_delta': {0: 0, 1: 0}}\n",
      "{'iteration': 72, 'status': {}, 'node_count': {0: 244, 1: 145}, 'status_delta': {0: 0, 1: 0}}\n",
      "{'iteration': 73, 'status': {}, 'node_count': {0: 244, 1: 145}, 'status_delta': {0: 0, 1: 0}}\n",
      "{'iteration': 74, 'status': {}, 'node_count': {0: 244, 1: 145}, 'status_delta': {0: 0, 1: 0}}\n",
      "{'iteration': 75, 'status': {}, 'node_count': {0: 244, 1: 145}, 'status_delta': {0: 0, 1: 0}}\n",
      "{'iteration': 76, 'status': {}, 'node_count': {0: 244, 1: 145}, 'status_delta': {0: 0, 1: 0}}\n",
      "{'iteration': 77, 'status': {}, 'node_count': {0: 244, 1: 145}, 'status_delta': {0: 0, 1: 0}}\n",
      "{'iteration': 78, 'status': {}, 'node_count': {0: 244, 1: 145}, 'status_delta': {0: 0, 1: 0}}\n",
      "{'iteration': 79, 'status': {}, 'node_count': {0: 244, 1: 145}, 'status_delta': {0: 0, 1: 0}}\n",
      "{'iteration': 80, 'status': {}, 'node_count': {0: 244, 1: 145}, 'status_delta': {0: 0, 1: 0}}\n",
      "{'iteration': 81, 'status': {}, 'node_count': {0: 244, 1: 145}, 'status_delta': {0: 0, 1: 0}}\n",
      "{'iteration': 82, 'status': {}, 'node_count': {0: 244, 1: 145}, 'status_delta': {0: 0, 1: 0}}\n",
      "{'iteration': 83, 'status': {}, 'node_count': {0: 244, 1: 145}, 'status_delta': {0: 0, 1: 0}}\n",
      "{'iteration': 84, 'status': {}, 'node_count': {0: 244, 1: 145}, 'status_delta': {0: 0, 1: 0}}\n",
      "{'iteration': 85, 'status': {}, 'node_count': {0: 244, 1: 145}, 'status_delta': {0: 0, 1: 0}}\n",
      "{'iteration': 86, 'status': {}, 'node_count': {0: 244, 1: 145}, 'status_delta': {0: 0, 1: 0}}\n",
      "{'iteration': 87, 'status': {}, 'node_count': {0: 244, 1: 145}, 'status_delta': {0: 0, 1: 0}}\n",
      "{'iteration': 88, 'status': {}, 'node_count': {0: 244, 1: 145}, 'status_delta': {0: 0, 1: 0}}\n",
      "{'iteration': 89, 'status': {}, 'node_count': {0: 244, 1: 145}, 'status_delta': {0: 0, 1: 0}}\n",
      "{'iteration': 90, 'status': {}, 'node_count': {0: 244, 1: 145}, 'status_delta': {0: 0, 1: 0}}\n",
      "{'iteration': 91, 'status': {}, 'node_count': {0: 244, 1: 145}, 'status_delta': {0: 0, 1: 0}}\n",
      "{'iteration': 92, 'status': {}, 'node_count': {0: 244, 1: 145}, 'status_delta': {0: 0, 1: 0}}\n",
      "{'iteration': 93, 'status': {}, 'node_count': {0: 244, 1: 145}, 'status_delta': {0: 0, 1: 0}}\n",
      "{'iteration': 94, 'status': {}, 'node_count': {0: 244, 1: 145}, 'status_delta': {0: 0, 1: 0}}\n",
      "{'iteration': 95, 'status': {}, 'node_count': {0: 244, 1: 145}, 'status_delta': {0: 0, 1: 0}}\n",
      "{'iteration': 96, 'status': {}, 'node_count': {0: 244, 1: 145}, 'status_delta': {0: 0, 1: 0}}\n",
      "{'iteration': 97, 'status': {}, 'node_count': {0: 244, 1: 145}, 'status_delta': {0: 0, 1: 0}}\n",
      "{'iteration': 98, 'status': {}, 'node_count': {0: 244, 1: 145}, 'status_delta': {0: 0, 1: 0}}\n",
      "{'iteration': 99, 'status': {}, 'node_count': {0: 244, 1: 145}, 'status_delta': {0: 0, 1: 0}}\n",
      "{'iteration': 100, 'status': {}, 'node_count': {0: 244, 1: 145}, 'status_delta': {0: 0, 1: 0}}\n",
      "{'iteration': 101, 'status': {}, 'node_count': {0: 244, 1: 145}, 'status_delta': {0: 0, 1: 0}}\n",
      "{'iteration': 102, 'status': {}, 'node_count': {0: 244, 1: 145}, 'status_delta': {0: 0, 1: 0}}\n",
      "{'iteration': 103, 'status': {}, 'node_count': {0: 244, 1: 145}, 'status_delta': {0: 0, 1: 0}}\n",
      "{'iteration': 104, 'status': {}, 'node_count': {0: 244, 1: 145}, 'status_delta': {0: 0, 1: 0}}\n",
      "{'iteration': 105, 'status': {}, 'node_count': {0: 244, 1: 145}, 'status_delta': {0: 0, 1: 0}}\n",
      "{'iteration': 106, 'status': {}, 'node_count': {0: 244, 1: 145}, 'status_delta': {0: 0, 1: 0}}\n",
      "{'iteration': 107, 'status': {}, 'node_count': {0: 244, 1: 145}, 'status_delta': {0: 0, 1: 0}}\n",
      "{'iteration': 108, 'status': {}, 'node_count': {0: 244, 1: 145}, 'status_delta': {0: 0, 1: 0}}\n",
      "{'iteration': 109, 'status': {}, 'node_count': {0: 244, 1: 145}, 'status_delta': {0: 0, 1: 0}}\n",
      "{'iteration': 110, 'status': {}, 'node_count': {0: 244, 1: 145}, 'status_delta': {0: 0, 1: 0}}\n",
      "{'iteration': 111, 'status': {}, 'node_count': {0: 244, 1: 145}, 'status_delta': {0: 0, 1: 0}}\n",
      "{'iteration': 112, 'status': {}, 'node_count': {0: 244, 1: 145}, 'status_delta': {0: 0, 1: 0}}\n",
      "{'iteration': 113, 'status': {}, 'node_count': {0: 244, 1: 145}, 'status_delta': {0: 0, 1: 0}}\n",
      "{'iteration': 114, 'status': {}, 'node_count': {0: 244, 1: 145}, 'status_delta': {0: 0, 1: 0}}\n",
      "{'iteration': 115, 'status': {}, 'node_count': {0: 244, 1: 145}, 'status_delta': {0: 0, 1: 0}}\n",
      "{'iteration': 116, 'status': {}, 'node_count': {0: 244, 1: 145}, 'status_delta': {0: 0, 1: 0}}\n",
      "{'iteration': 117, 'status': {}, 'node_count': {0: 244, 1: 145}, 'status_delta': {0: 0, 1: 0}}\n",
      "{'iteration': 118, 'status': {}, 'node_count': {0: 244, 1: 145}, 'status_delta': {0: 0, 1: 0}}\n",
      "{'iteration': 119, 'status': {}, 'node_count': {0: 244, 1: 145}, 'status_delta': {0: 0, 1: 0}}\n",
      "{'iteration': 120, 'status': {}, 'node_count': {0: 244, 1: 145}, 'status_delta': {0: 0, 1: 0}}\n",
      "{'iteration': 121, 'status': {}, 'node_count': {0: 244, 1: 145}, 'status_delta': {0: 0, 1: 0}}\n",
      "{'iteration': 122, 'status': {}, 'node_count': {0: 244, 1: 145}, 'status_delta': {0: 0, 1: 0}}\n",
      "{'iteration': 123, 'status': {}, 'node_count': {0: 244, 1: 145}, 'status_delta': {0: 0, 1: 0}}\n",
      "{'iteration': 124, 'status': {}, 'node_count': {0: 244, 1: 145}, 'status_delta': {0: 0, 1: 0}}\n",
      "{'iteration': 125, 'status': {}, 'node_count': {0: 244, 1: 145}, 'status_delta': {0: 0, 1: 0}}\n",
      "{'iteration': 126, 'status': {}, 'node_count': {0: 244, 1: 145}, 'status_delta': {0: 0, 1: 0}}\n",
      "{'iteration': 127, 'status': {}, 'node_count': {0: 244, 1: 145}, 'status_delta': {0: 0, 1: 0}}\n",
      "{'iteration': 128, 'status': {}, 'node_count': {0: 244, 1: 145}, 'status_delta': {0: 0, 1: 0}}\n",
      "{'iteration': 129, 'status': {}, 'node_count': {0: 244, 1: 145}, 'status_delta': {0: 0, 1: 0}}\n",
      "{'iteration': 130, 'status': {}, 'node_count': {0: 244, 1: 145}, 'status_delta': {0: 0, 1: 0}}\n",
      "{'iteration': 131, 'status': {}, 'node_count': {0: 244, 1: 145}, 'status_delta': {0: 0, 1: 0}}\n",
      "{'iteration': 132, 'status': {}, 'node_count': {0: 244, 1: 145}, 'status_delta': {0: 0, 1: 0}}\n",
      "{'iteration': 133, 'status': {}, 'node_count': {0: 244, 1: 145}, 'status_delta': {0: 0, 1: 0}}\n",
      "{'iteration': 134, 'status': {}, 'node_count': {0: 244, 1: 145}, 'status_delta': {0: 0, 1: 0}}\n",
      "{'iteration': 135, 'status': {}, 'node_count': {0: 244, 1: 145}, 'status_delta': {0: 0, 1: 0}}\n",
      "{'iteration': 136, 'status': {}, 'node_count': {0: 244, 1: 145}, 'status_delta': {0: 0, 1: 0}}\n",
      "{'iteration': 137, 'status': {}, 'node_count': {0: 244, 1: 145}, 'status_delta': {0: 0, 1: 0}}\n",
      "{'iteration': 138, 'status': {}, 'node_count': {0: 244, 1: 145}, 'status_delta': {0: 0, 1: 0}}\n",
      "{'iteration': 139, 'status': {}, 'node_count': {0: 244, 1: 145}, 'status_delta': {0: 0, 1: 0}}\n",
      "{'iteration': 140, 'status': {}, 'node_count': {0: 244, 1: 145}, 'status_delta': {0: 0, 1: 0}}\n",
      "{'iteration': 141, 'status': {}, 'node_count': {0: 244, 1: 145}, 'status_delta': {0: 0, 1: 0}}\n",
      "{'iteration': 142, 'status': {}, 'node_count': {0: 244, 1: 145}, 'status_delta': {0: 0, 1: 0}}\n",
      "{'iteration': 143, 'status': {}, 'node_count': {0: 244, 1: 145}, 'status_delta': {0: 0, 1: 0}}\n",
      "{'iteration': 144, 'status': {}, 'node_count': {0: 244, 1: 145}, 'status_delta': {0: 0, 1: 0}}\n",
      "{'iteration': 145, 'status': {}, 'node_count': {0: 244, 1: 145}, 'status_delta': {0: 0, 1: 0}}\n",
      "{'iteration': 146, 'status': {}, 'node_count': {0: 244, 1: 145}, 'status_delta': {0: 0, 1: 0}}\n",
      "{'iteration': 147, 'status': {}, 'node_count': {0: 244, 1: 145}, 'status_delta': {0: 0, 1: 0}}\n",
      "{'iteration': 148, 'status': {}, 'node_count': {0: 244, 1: 145}, 'status_delta': {0: 0, 1: 0}}\n",
      "{'iteration': 149, 'status': {}, 'node_count': {0: 244, 1: 145}, 'status_delta': {0: 0, 1: 0}}\n",
      "{'iteration': 150, 'status': {}, 'node_count': {0: 244, 1: 145}, 'status_delta': {0: 0, 1: 0}}\n",
      "{'iteration': 151, 'status': {}, 'node_count': {0: 244, 1: 145}, 'status_delta': {0: 0, 1: 0}}\n",
      "{'iteration': 152, 'status': {}, 'node_count': {0: 244, 1: 145}, 'status_delta': {0: 0, 1: 0}}\n",
      "{'iteration': 153, 'status': {}, 'node_count': {0: 244, 1: 145}, 'status_delta': {0: 0, 1: 0}}\n",
      "{'iteration': 154, 'status': {}, 'node_count': {0: 244, 1: 145}, 'status_delta': {0: 0, 1: 0}}\n",
      "{'iteration': 155, 'status': {}, 'node_count': {0: 244, 1: 145}, 'status_delta': {0: 0, 1: 0}}\n",
      "{'iteration': 156, 'status': {}, 'node_count': {0: 244, 1: 145}, 'status_delta': {0: 0, 1: 0}}\n",
      "{'iteration': 157, 'status': {}, 'node_count': {0: 244, 1: 145}, 'status_delta': {0: 0, 1: 0}}\n",
      "{'iteration': 158, 'status': {}, 'node_count': {0: 244, 1: 145}, 'status_delta': {0: 0, 1: 0}}\n",
      "{'iteration': 159, 'status': {}, 'node_count': {0: 244, 1: 145}, 'status_delta': {0: 0, 1: 0}}\n",
      "{'iteration': 160, 'status': {}, 'node_count': {0: 244, 1: 145}, 'status_delta': {0: 0, 1: 0}}\n",
      "{'iteration': 161, 'status': {}, 'node_count': {0: 244, 1: 145}, 'status_delta': {0: 0, 1: 0}}\n",
      "{'iteration': 162, 'status': {}, 'node_count': {0: 244, 1: 145}, 'status_delta': {0: 0, 1: 0}}\n",
      "{'iteration': 163, 'status': {}, 'node_count': {0: 244, 1: 145}, 'status_delta': {0: 0, 1: 0}}\n",
      "{'iteration': 164, 'status': {}, 'node_count': {0: 244, 1: 145}, 'status_delta': {0: 0, 1: 0}}\n",
      "{'iteration': 165, 'status': {}, 'node_count': {0: 244, 1: 145}, 'status_delta': {0: 0, 1: 0}}\n",
      "{'iteration': 166, 'status': {}, 'node_count': {0: 244, 1: 145}, 'status_delta': {0: 0, 1: 0}}\n",
      "{'iteration': 167, 'status': {}, 'node_count': {0: 244, 1: 145}, 'status_delta': {0: 0, 1: 0}}\n",
      "{'iteration': 168, 'status': {}, 'node_count': {0: 244, 1: 145}, 'status_delta': {0: 0, 1: 0}}\n",
      "{'iteration': 169, 'status': {}, 'node_count': {0: 244, 1: 145}, 'status_delta': {0: 0, 1: 0}}\n",
      "{'iteration': 170, 'status': {}, 'node_count': {0: 244, 1: 145}, 'status_delta': {0: 0, 1: 0}}\n",
      "{'iteration': 171, 'status': {}, 'node_count': {0: 244, 1: 145}, 'status_delta': {0: 0, 1: 0}}\n",
      "{'iteration': 172, 'status': {}, 'node_count': {0: 244, 1: 145}, 'status_delta': {0: 0, 1: 0}}\n",
      "{'iteration': 173, 'status': {}, 'node_count': {0: 244, 1: 145}, 'status_delta': {0: 0, 1: 0}}\n",
      "{'iteration': 174, 'status': {}, 'node_count': {0: 244, 1: 145}, 'status_delta': {0: 0, 1: 0}}\n",
      "{'iteration': 175, 'status': {}, 'node_count': {0: 244, 1: 145}, 'status_delta': {0: 0, 1: 0}}\n",
      "{'iteration': 176, 'status': {}, 'node_count': {0: 244, 1: 145}, 'status_delta': {0: 0, 1: 0}}\n",
      "{'iteration': 177, 'status': {}, 'node_count': {0: 244, 1: 145}, 'status_delta': {0: 0, 1: 0}}\n",
      "{'iteration': 178, 'status': {}, 'node_count': {0: 244, 1: 145}, 'status_delta': {0: 0, 1: 0}}\n",
      "{'iteration': 179, 'status': {}, 'node_count': {0: 244, 1: 145}, 'status_delta': {0: 0, 1: 0}}\n",
      "{'iteration': 180, 'status': {}, 'node_count': {0: 244, 1: 145}, 'status_delta': {0: 0, 1: 0}}\n",
      "{'iteration': 181, 'status': {}, 'node_count': {0: 244, 1: 145}, 'status_delta': {0: 0, 1: 0}}\n",
      "{'iteration': 182, 'status': {}, 'node_count': {0: 244, 1: 145}, 'status_delta': {0: 0, 1: 0}}\n",
      "{'iteration': 183, 'status': {}, 'node_count': {0: 244, 1: 145}, 'status_delta': {0: 0, 1: 0}}\n",
      "{'iteration': 184, 'status': {}, 'node_count': {0: 244, 1: 145}, 'status_delta': {0: 0, 1: 0}}\n",
      "{'iteration': 185, 'status': {}, 'node_count': {0: 244, 1: 145}, 'status_delta': {0: 0, 1: 0}}\n",
      "{'iteration': 186, 'status': {}, 'node_count': {0: 244, 1: 145}, 'status_delta': {0: 0, 1: 0}}\n",
      "{'iteration': 187, 'status': {}, 'node_count': {0: 244, 1: 145}, 'status_delta': {0: 0, 1: 0}}\n",
      "{'iteration': 188, 'status': {}, 'node_count': {0: 244, 1: 145}, 'status_delta': {0: 0, 1: 0}}\n",
      "{'iteration': 189, 'status': {}, 'node_count': {0: 244, 1: 145}, 'status_delta': {0: 0, 1: 0}}\n",
      "{'iteration': 190, 'status': {}, 'node_count': {0: 244, 1: 145}, 'status_delta': {0: 0, 1: 0}}\n",
      "{'iteration': 191, 'status': {}, 'node_count': {0: 244, 1: 145}, 'status_delta': {0: 0, 1: 0}}\n",
      "{'iteration': 192, 'status': {}, 'node_count': {0: 244, 1: 145}, 'status_delta': {0: 0, 1: 0}}\n",
      "{'iteration': 193, 'status': {}, 'node_count': {0: 244, 1: 145}, 'status_delta': {0: 0, 1: 0}}\n",
      "{'iteration': 194, 'status': {}, 'node_count': {0: 244, 1: 145}, 'status_delta': {0: 0, 1: 0}}\n",
      "{'iteration': 195, 'status': {}, 'node_count': {0: 244, 1: 145}, 'status_delta': {0: 0, 1: 0}}\n",
      "{'iteration': 196, 'status': {}, 'node_count': {0: 244, 1: 145}, 'status_delta': {0: 0, 1: 0}}\n",
      "{'iteration': 197, 'status': {}, 'node_count': {0: 244, 1: 145}, 'status_delta': {0: 0, 1: 0}}\n",
      "{'iteration': 198, 'status': {}, 'node_count': {0: 244, 1: 145}, 'status_delta': {0: 0, 1: 0}}\n",
      "{'iteration': 199, 'status': {}, 'node_count': {0: 244, 1: 145}, 'status_delta': {0: 0, 1: 0}}\n"
     ]
    }
   ],
   "source": [
    "print(type(iterations))\n",
    "for i in range(0,len(iterations)):\n",
    "    print(iterations[i])"
   ]
  },
  {
   "cell_type": "code",
   "execution_count": null,
   "metadata": {},
   "outputs": [],
   "source": []
  }
 ],
 "metadata": {
  "kernelspec": {
   "display_name": "Python 3",
   "language": "python",
   "name": "python3"
  },
  "language_info": {
   "codemirror_mode": {
    "name": "ipython",
    "version": 3
   },
   "file_extension": ".py",
   "mimetype": "text/x-python",
   "name": "python",
   "nbconvert_exporter": "python",
   "pygments_lexer": "ipython3",
   "version": "3.6.7"
  }
 },
 "nbformat": 4,
 "nbformat_minor": 4
}
